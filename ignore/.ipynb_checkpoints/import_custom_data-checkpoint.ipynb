{
 "cells": [
  {
   "cell_type": "markdown",
   "metadata": {},
   "source": [
    "# Import and format custom datasets for SCHOLAR"
   ]
  },
  {
   "cell_type": "code",
   "execution_count": null,
   "metadata": {},
   "outputs": [],
   "source": [
    "import os, sys, scipy, json\n",
    "from scipy import sparse\n",
    "import codecs\n",
    "import numpy as np\n",
    "import pandas as pd\n",
    "import file_handling as fh"
   ]
  },
  {
   "cell_type": "markdown",
   "metadata": {},
   "source": [
    "## train.npz"
   ]
  },
  {
   "cell_type": "code",
   "execution_count": null,
   "metadata": {},
   "outputs": [],
   "source": [
    "data_dir = \"/Users/maximilianahrens/OneDrive - Nexus365/nlp_models/scholar/data/imdb/processed/\""
   ]
  },
  {
   "cell_type": "code",
   "execution_count": null,
   "metadata": {},
   "outputs": [],
   "source": [
    "trainnpz = fh.load_sparse(data_dir + \"train.npz\")\n",
    "#trainnpz = scipy.sparse.load_npz(data_dir + \"train.npz\")"
   ]
  },
  {
   "cell_type": "code",
   "execution_count": null,
   "metadata": {},
   "outputs": [],
   "source": [
    "train_dtm = trainnpz.todense()"
   ]
  },
  {
   "cell_type": "code",
   "execution_count": null,
   "metadata": {},
   "outputs": [],
   "source": [
    "print(train_dtm.shape)\n",
    "train_dtm"
   ]
  },
  {
   "cell_type": "markdown",
   "metadata": {},
   "source": [
    "## train.vocab"
   ]
  },
  {
   "cell_type": "code",
   "execution_count": null,
   "metadata": {},
   "outputs": [],
   "source": [
    "vocab = fh.read_json(data_dir + \"train.vocab.json\")"
   ]
  },
  {
   "cell_type": "code",
   "execution_count": null,
   "metadata": {},
   "outputs": [],
   "source": [
    "vocab"
   ]
  },
  {
   "cell_type": "markdown",
   "metadata": {},
   "source": [
    "## labels and covars"
   ]
  },
  {
   "cell_type": "code",
   "execution_count": null,
   "metadata": {},
   "outputs": [],
   "source": [
    "label = pd.read_csv(data_dir + \"train.sentiment_reg.csv\", header=0, index_col=0)"
   ]
  },
  {
   "cell_type": "code",
   "execution_count": null,
   "metadata": {},
   "outputs": [],
   "source": [
    "label"
   ]
  },
  {
   "cell_type": "markdown",
   "metadata": {},
   "source": [
    "# Booking"
   ]
  },
  {
   "cell_type": "markdown",
   "metadata": {},
   "source": [
    "## load booking data and save in SCHOLAR format"
   ]
  },
  {
   "cell_type": "code",
   "execution_count": null,
   "metadata": {},
   "outputs": [],
   "source": [
    "if sys.platform == \"darwin\":\n",
    "    raw_data_path = \"/Users/maximilianahrens/OneDrive - Nexus365/00_datasets/booking/booking_btr/\"\n",
    "    output_dir = raw_data_path + \"scholar/\"\n",
    "else:\n",
    "    raw_data_path = \"/nfs/home/maxa/data/booking_btr/\"\n",
    "    output_dir = raw_data_path + \"scholar/\"\n",
    "print(raw_data_path, \"\\n\",output_dir)"
   ]
  },
  {
   "cell_type": "markdown",
   "metadata": {},
   "source": [
    "## vocab"
   ]
  },
  {
   "cell_type": "code",
   "execution_count": null,
   "metadata": {},
   "outputs": [],
   "source": [
    "vocab_df = pd.read_csv(raw_data_path +'preprocessed/booking_vocab.csv', header = None)\n",
    "vocab = list(vocab_df[0])\n",
    "len(vocab)"
   ]
  },
  {
   "cell_type": "code",
   "execution_count": null,
   "metadata": {},
   "outputs": [],
   "source": [
    "fh.write_to_json(vocab, output_dir + \"train.vocab.json\", indent=2, sort_keys=True)"
   ]
  },
  {
   "cell_type": "markdown",
   "metadata": {},
   "source": [
    "## dtm"
   ]
  },
  {
   "cell_type": "code",
   "execution_count": null,
   "metadata": {},
   "outputs": [],
   "source": [
    "x_bow_raw = pd.read_csv(raw_data_path + \"preprocessed/booking_dtm.csv\", header = None).values"
   ]
  },
  {
   "cell_type": "code",
   "execution_count": null,
   "metadata": {},
   "outputs": [],
   "source": [
    "x_bow = np.matrix(x_bow_raw)"
   ]
  },
  {
   "cell_type": "code",
   "execution_count": null,
   "metadata": {},
   "outputs": [],
   "source": [
    "cut = int(0.8*x_bow.shape[0])\n",
    "cut"
   ]
  },
  {
   "cell_type": "code",
   "execution_count": null,
   "metadata": {},
   "outputs": [],
   "source": [
    "x_bow_train = x_bow[:cut] \n",
    "x_bow_test = x_bow[cut:]\n",
    "x_bow_train.shape, x_bow_test.shape"
   ]
  },
  {
   "cell_type": "code",
   "execution_count": null,
   "metadata": {},
   "outputs": [],
   "source": [
    "# train\n",
    "sparse_Xtr = sparse.coo_matrix(x_bow_train).tocsr()\n",
    "fh.save_sparse(sparse_Xtr, os.path.join(raw_data_path, \"scholar\", \"train.npz\"))\n",
    "# test\n",
    "sparse_Xte = sparse.coo_matrix(x_bow_test).tocsr()\n",
    "fh.save_sparse(sparse_Xte, os.path.join(raw_data_path, \"scholar\", \"test.npz\"))"
   ]
  },
  {
   "cell_type": "markdown",
   "metadata": {},
   "source": [
    "## doc IDs"
   ]
  },
  {
   "cell_type": "code",
   "execution_count": null,
   "metadata": {},
   "outputs": [],
   "source": [
    "train_ids = [\"train_\" + str(x) for x in list(range(x_bow_train.shape[0]))]\n",
    "test_ids = [\"test_\" + str(x) for x in list(range(x_bow_test.shape[0]))]"
   ]
  },
  {
   "cell_type": "code",
   "execution_count": null,
   "metadata": {},
   "outputs": [],
   "source": [
    "fh.write_to_json(train_ids, output_dir + \"train.ids.json\", indent=2, sort_keys=True)\n",
    "fh.write_to_json(test_ids, output_dir + \"test.ids.json\", indent=2, sort_keys=True)"
   ]
  },
  {
   "cell_type": "code",
   "execution_count": null,
   "metadata": {},
   "outputs": [],
   "source": [
    "train_y_org = pd.read_csv(data_path + \"/booking_btr/booking_train_targets_sample.csv\",\n",
    "                          header = 0, ).reviewer_score_demeaned.values.astype(\"float32\")\n",
    "test_y_org = pd.read_csv(data_path + \"/booking_btr/booking_test_targets_sample.csv\",\n",
    "                         header = 0).reviewer_score_demeaned.values.astype(\"float32\")\n",
    "# load numfeatures\n",
    "train_numfeat = pd.read_csv(data_path + \"/booking_btr/booking_normed_train_features_sample.csv\",header = 0)\n",
    "test_numfeat = pd.read_csv(data_path + \"/booking_btr/booking_normed_test_features_sample.csv\",header = 0)"
   ]
  },
  {
   "cell_type": "markdown",
   "metadata": {},
   "source": [
    "## labels"
   ]
  },
  {
   "cell_type": "code",
   "execution_count": null,
   "metadata": {},
   "outputs": [],
   "source": [
    "train_y_org = pd.read_csv(raw_data_path + \"/booking_train_targets_sample.csv\",\n",
    "                          header = 0)\n",
    "test_y_org = pd.read_csv(raw_data_path + \"/booking_test_targets_sample.csv\",\n",
    "                         header = 0)"
   ]
  },
  {
   "cell_type": "code",
   "execution_count": null,
   "metadata": {},
   "outputs": [],
   "source": [
    "train_y = train_y_org.reviewer_score_demeaned\n",
    "train_y.index = train_ids\n",
    "train_y.to_csv(output_dir + \"train.target.csv\")"
   ]
  },
  {
   "cell_type": "code",
   "execution_count": null,
   "metadata": {},
   "outputs": [],
   "source": [
    "test_y = test_y_org.reviewer_score_demeaned\n",
    "test_y.index = test_ids\n",
    "test_y.to_csv(output_dir + \"test.target.csv\")"
   ]
  },
  {
   "cell_type": "markdown",
   "metadata": {},
   "source": [
    "## covariates"
   ]
  },
  {
   "cell_type": "code",
   "execution_count": null,
   "metadata": {},
   "outputs": [],
   "source": [
    "train_covars_raw = pd.read_csv(raw_data_path + \"booking_normed_train_features_sample.csv\",header = 0)\n",
    "test_covars_raw = pd.read_csv(raw_data_path + \"booking_normed_test_features_sample.csv\",header = 0)"
   ]
  },
  {
   "cell_type": "code",
   "execution_count": null,
   "metadata": {},
   "outputs": [],
   "source": [
    "train_covars = train_covars_raw.iloc[:,:5].astype(\"float32\") # choose which features to include\n",
    "test_covars = test_covars_raw.iloc[:,:5].astype(\"float32\") # choose which features to include"
   ]
  },
  {
   "cell_type": "code",
   "execution_count": null,
   "metadata": {},
   "outputs": [],
   "source": [
    "train_covars.index = train_ids\n",
    "test_covars.index = test_ids"
   ]
  },
  {
   "cell_type": "code",
   "execution_count": null,
   "metadata": {},
   "outputs": [],
   "source": [
    "train_covars.to_csv(output_dir + \"train.covars.csv\")\n",
    "test_covars.to_csv(output_dir + \"test.covars.csv\")"
   ]
  },
  {
   "cell_type": "code",
   "execution_count": null,
   "metadata": {},
   "outputs": [],
   "source": [
    "train_covars.shape, test_covars.shape"
   ]
  },
  {
   "cell_type": "markdown",
   "metadata": {},
   "source": [
    "## check results"
   ]
  },
  {
   "cell_type": "code",
   "execution_count": null,
   "metadata": {},
   "outputs": [],
   "source": [
    "res_test = pd.read_csv(\"/Users/maximilianahrens/Downloads/predictions_test.csv\", index_col = 0)"
   ]
  },
  {
   "cell_type": "code",
   "execution_count": null,
   "metadata": {},
   "outputs": [],
   "source": [
    "res_test[0]"
   ]
  },
  {
   "cell_type": "code",
   "execution_count": null,
   "metadata": {},
   "outputs": [],
   "source": []
  },
  {
   "cell_type": "markdown",
   "metadata": {},
   "source": [
    "# Yelp"
   ]
  },
  {
   "cell_type": "markdown",
   "metadata": {},
   "source": [
    "## load Yelp data and save in SCHOLAR format"
   ]
  },
  {
   "cell_type": "code",
   "execution_count": 7,
   "metadata": {},
   "outputs": [
    {
     "name": "stdout",
     "output_type": "stream",
     "text": [
      "/nfs/home/maxa/data/yelp_btr/ \n",
      " /nfs/home/maxa/data/yelp_btr/scholar/\n"
     ]
    }
   ],
   "source": [
    "if sys.platform == \"darwin\":\n",
    "    raw_data_path = \"/Users/maximilianahrens/OneDrive - Nexus365/00_datasets/yelp/yelp_btr/\"\n",
    "    output_dir = raw_data_path + \"scholar/\"\n",
    "else:\n",
    "    raw_data_path = \"/nfs/home/maxa/data/yelp_btr/\"\n",
    "    output_dir = raw_data_path + \"scholar/\"\n",
    "print(raw_data_path, \"\\n\",output_dir)"
   ]
  },
  {
   "cell_type": "markdown",
   "metadata": {},
   "source": [
    "## vocab"
   ]
  },
  {
   "cell_type": "code",
   "execution_count": 8,
   "metadata": {},
   "outputs": [
    {
     "data": {
      "text/plain": [
       "24680"
      ]
     },
     "execution_count": 8,
     "metadata": {},
     "output_type": "execute_result"
    }
   ],
   "source": [
    "vocab_df = pd.read_csv(raw_data_path +'preprocessed/yelp_vocab.csv', header = None)\n",
    "vocab = list(vocab_df[0])\n",
    "len(vocab)"
   ]
  },
  {
   "cell_type": "code",
   "execution_count": 15,
   "metadata": {},
   "outputs": [],
   "source": [
    "fh.write_to_json(vocab, output_dir + \"train.vocab.json\", indent=2, sort_keys=True)"
   ]
  },
  {
   "cell_type": "markdown",
   "metadata": {},
   "source": [
    "## dtm"
   ]
  },
  {
   "cell_type": "code",
   "execution_count": null,
   "metadata": {},
   "outputs": [],
   "source": [
    "x_bow_raw = pd.read_csv(raw_data_path + \"preprocessed/yelp_dtm.csv\", header = None).values"
   ]
  },
  {
   "cell_type": "code",
   "execution_count": null,
   "metadata": {},
   "outputs": [],
   "source": [
    "x_bow = np.matrix(x_bow_raw)"
   ]
  },
  {
   "cell_type": "code",
   "execution_count": null,
   "metadata": {},
   "outputs": [],
   "source": [
    "cut = int(0.75*x_bow.shape[0])\n",
    "cut"
   ]
  },
  {
   "cell_type": "code",
   "execution_count": null,
   "metadata": {},
   "outputs": [],
   "source": [
    "x_bow_train = x_bow[:cut] \n",
    "x_bow_test = x_bow[cut:]\n",
    "x_bow_train.shape, x_bow_test.shape"
   ]
  },
  {
   "cell_type": "code",
   "execution_count": null,
   "metadata": {},
   "outputs": [],
   "source": [
    "# train\n",
    "sparse_Xtr = sparse.coo_matrix(x_bow_train).tocsr()\n",
    "fh.save_sparse(sparse_Xtr, os.path.join(raw_data_path, \"scholar\", \"train.npz\"))\n",
    "# test\n",
    "sparse_Xte = sparse.coo_matrix(x_bow_test).tocsr()\n",
    "fh.save_sparse(sparse_Xte, os.path.join(raw_data_path, \"scholar\", \"test.npz\"))"
   ]
  },
  {
   "cell_type": "markdown",
   "metadata": {},
   "source": [
    "## doc IDs"
   ]
  },
  {
   "cell_type": "code",
   "execution_count": null,
   "metadata": {},
   "outputs": [],
   "source": [
    "train_ids = [\"train_\" + str(x) for x in list(range(x_bow_train.shape[0]))]\n",
    "test_ids = [\"test_\" + str(x) for x in list(range(x_bow_test.shape[0]))]"
   ]
  },
  {
   "cell_type": "code",
   "execution_count": null,
   "metadata": {},
   "outputs": [],
   "source": [
    "fh.write_to_json(train_ids, output_dir + \"train.ids.json\", indent=2, sort_keys=True)\n",
    "fh.write_to_json(test_ids, output_dir + \"test.ids.json\", indent=2, sort_keys=True)"
   ]
  },
  {
   "cell_type": "code",
   "execution_count": null,
   "metadata": {},
   "outputs": [],
   "source": [
    "train_y_org = pd.read_csv(data_path + \"/booking_btr/booking_train_targets_sample.csv\",\n",
    "                          header = 0, ).reviewer_score_demeaned.values.astype(\"float32\")\n",
    "test_y_org = pd.read_csv(data_path + \"/booking_btr/booking_test_targets_sample.csv\",\n",
    "                         header = 0).reviewer_score_demeaned.values.astype(\"float32\")\n",
    "# load numfeatures\n",
    "train_numfeat = pd.read_csv(data_path + \"/booking_btr/booking_normed_train_features_sample.csv\",header = 0)\n",
    "test_numfeat = pd.read_csv(data_path + \"/booking_btr/booking_normed_test_features_sample.csv\",header = 0)"
   ]
  },
  {
   "cell_type": "markdown",
   "metadata": {},
   "source": [
    "## labels"
   ]
  },
  {
   "cell_type": "code",
   "execution_count": null,
   "metadata": {},
   "outputs": [],
   "source": [
    "train_y_org = pd.read_csv(raw_data_path + \"/booking_train_targets_sample.csv\",\n",
    "                          header = 0)\n",
    "test_y_org = pd.read_csv(raw_data_path + \"/booking_test_targets_sample.csv\",\n",
    "                         header = 0)"
   ]
  },
  {
   "cell_type": "code",
   "execution_count": null,
   "metadata": {},
   "outputs": [],
   "source": [
    "train_y = train_y_org.reviewer_score_demeaned\n",
    "train_y.index = train_ids\n",
    "train_y.to_csv(output_dir + \"train.target.csv\")"
   ]
  },
  {
   "cell_type": "code",
   "execution_count": null,
   "metadata": {},
   "outputs": [],
   "source": [
    "test_y = test_y_org.reviewer_score_demeaned\n",
    "test_y.index = test_ids\n",
    "test_y.to_csv(output_dir + \"test.target.csv\")"
   ]
  },
  {
   "cell_type": "markdown",
   "metadata": {},
   "source": [
    "## covariates"
   ]
  },
  {
   "cell_type": "code",
   "execution_count": null,
   "metadata": {},
   "outputs": [],
   "source": [
    "train_covars_raw = pd.read_csv(raw_data_path + \"booking_normed_train_features_sample.csv\",header = 0)\n",
    "test_covars_raw = pd.read_csv(raw_data_path + \"booking_normed_test_features_sample.csv\",header = 0)"
   ]
  },
  {
   "cell_type": "code",
   "execution_count": null,
   "metadata": {},
   "outputs": [],
   "source": [
    "train_covars = train_covars_raw.iloc[:,:5].astype(\"float32\") # choose which features to include\n",
    "test_covars = test_covars_raw.iloc[:,:5].astype(\"float32\") # choose which features to include"
   ]
  },
  {
   "cell_type": "code",
   "execution_count": null,
   "metadata": {},
   "outputs": [],
   "source": [
    "train_covars.index = train_ids\n",
    "test_covars.index = test_ids"
   ]
  },
  {
   "cell_type": "code",
   "execution_count": null,
   "metadata": {},
   "outputs": [],
   "source": [
    "train_covars.to_csv(output_dir + \"train.covars.csv\")\n",
    "test_covars.to_csv(output_dir + \"test.covars.csv\")"
   ]
  },
  {
   "cell_type": "code",
   "execution_count": null,
   "metadata": {},
   "outputs": [],
   "source": [
    "train_covars.shape, test_covars.shape"
   ]
  },
  {
   "cell_type": "markdown",
   "metadata": {},
   "source": [
    "## check results"
   ]
  },
  {
   "cell_type": "code",
   "execution_count": null,
   "metadata": {},
   "outputs": [],
   "source": [
    "res_test = pd.read_csv(\"/Users/maximilianahrens/Downloads/predictions_test.csv\", index_col = 0)"
   ]
  },
  {
   "cell_type": "code",
   "execution_count": null,
   "metadata": {},
   "outputs": [],
   "source": [
    "res_test[0]"
   ]
  }
 ],
 "metadata": {
  "kernelspec": {
   "display_name": "Python 3",
   "language": "python",
   "name": "python3"
  },
  "language_info": {
   "codemirror_mode": {
    "name": "ipython",
    "version": 3
   },
   "file_extension": ".py",
   "mimetype": "text/x-python",
   "name": "python",
   "nbconvert_exporter": "python",
   "pygments_lexer": "ipython3",
   "version": "3.6.5"
  }
 },
 "nbformat": 4,
 "nbformat_minor": 5
}
