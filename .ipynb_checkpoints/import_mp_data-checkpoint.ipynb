{
 "cells": [
  {
   "cell_type": "markdown",
   "metadata": {},
   "source": [
    "# Import and format MP data datasets for SCHOLAR"
   ]
  },
  {
   "cell_type": "code",
   "execution_count": 1,
   "metadata": {},
   "outputs": [],
   "source": [
    "import os, sys, scipy, json\n",
    "from scipy import sparse\n",
    "import codecs\n",
    "import numpy as np\n",
    "import pandas as pd\n",
    "import file_handling as fh"
   ]
  },
  {
   "cell_type": "markdown",
   "metadata": {},
   "source": [
    "# MP speeches"
   ]
  },
  {
   "cell_type": "markdown",
   "metadata": {},
   "source": [
    "## load booking data and save in SCHOLAR format"
   ]
  },
  {
   "cell_type": "code",
   "execution_count": 3,
   "metadata": {},
   "outputs": [
    {
     "name": "stdout",
     "output_type": "stream",
     "text": [
      "/nfs/home/maxa/data/mp_speeches/ \n",
      " /nfs/home/maxa/data/mp_speeches/scholar/\n"
     ]
    }
   ],
   "source": [
    "if sys.platform == \"darwin\":\n",
    "    pass\n",
    "else:\n",
    "    raw_data_path = \"/nfs/home/maxa/data/mp_speeches/\"\n",
    "    output_dir = raw_data_path + \"scholar/\"\n",
    "try:\n",
    "    os.mkdir(output_dir)\n",
    "except:\n",
    "    pass\n",
    "print(raw_data_path, \"\\n\",output_dir)"
   ]
  },
  {
   "cell_type": "markdown",
   "metadata": {},
   "source": [
    "## vocab"
   ]
  },
  {
   "cell_type": "code",
   "execution_count": 7,
   "metadata": {},
   "outputs": [
    {
     "data": {
      "text/plain": [
       "2034"
      ]
     },
     "execution_count": 7,
     "metadata": {},
     "output_type": "execute_result"
    }
   ],
   "source": [
    "vocab_df = pd.read_csv(raw_data_path +'/datasets_by_meet_date/alltextvocab_tokens_tfidf17.csv', header = None)\n",
    "vocab = list(vocab_df[1])\n",
    "len(vocab)"
   ]
  },
  {
   "cell_type": "code",
   "execution_count": 9,
   "metadata": {},
   "outputs": [
    {
     "data": {
      "text/plain": [
       "['about',\n",
       " 'abroad',\n",
       " 'absence',\n",
       " 'absorb',\n",
       " 'academic',\n",
       " 'accelerate',\n",
       " 'accelerated',\n",
       " 'acceleration',\n",
       " 'accept',\n",
       " 'access',\n",
       " 'accommodation',\n",
       " 'accommodative',\n",
       " 'accompanied',\n",
       " 'accord',\n",
       " 'accordingly',\n",
       " 'accountability',\n",
       " 'accounted',\n",
       " 'accounting',\n",
       " 'accounts',\n",
       " 'accumulation']"
      ]
     },
     "execution_count": 9,
     "metadata": {},
     "output_type": "execute_result"
    }
   ],
   "source": [
    "vocab[:20]"
   ]
  },
  {
   "cell_type": "code",
   "execution_count": 10,
   "metadata": {},
   "outputs": [],
   "source": [
    "fh.write_to_json(vocab, output_dir + \"train.vocab.json\", indent=2, sort_keys=True)"
   ]
  },
  {
   "cell_type": "markdown",
   "metadata": {},
   "source": [
    "## dtm"
   ]
  },
  {
   "cell_type": "code",
   "execution_count": 11,
   "metadata": {},
   "outputs": [],
   "source": [
    "x_bow_raw = np.load(raw_data_path + \"datasets_by_meet_date/REGALLTEXT_dtm_unigrams_alltext_tfidf17.npy\")"
   ]
  },
  {
   "cell_type": "code",
   "execution_count": 13,
   "metadata": {},
   "outputs": [
    {
     "data": {
      "text/plain": [
       "(145, 2034)"
      ]
     },
     "execution_count": 13,
     "metadata": {},
     "output_type": "execute_result"
    }
   ],
   "source": [
    "x_bow_raw.shape"
   ]
  },
  {
   "cell_type": "code",
   "execution_count": 14,
   "metadata": {},
   "outputs": [],
   "source": [
    "x_bow = np.matrix(x_bow_raw)"
   ]
  },
  {
   "cell_type": "code",
   "execution_count": 15,
   "metadata": {},
   "outputs": [
    {
     "data": {
      "text/plain": [
       "145"
      ]
     },
     "execution_count": 15,
     "metadata": {},
     "output_type": "execute_result"
    }
   ],
   "source": [
    "cut = int(1.0*x_bow.shape[0])\n",
    "cut"
   ]
  },
  {
   "cell_type": "code",
   "execution_count": 16,
   "metadata": {},
   "outputs": [
    {
     "data": {
      "text/plain": [
       "((145, 2034), (0, 2034))"
      ]
     },
     "execution_count": 16,
     "metadata": {},
     "output_type": "execute_result"
    }
   ],
   "source": [
    "x_bow_train = x_bow[:cut] \n",
    "x_bow_test = x_bow[cut:]\n",
    "x_bow_train.shape, x_bow_test.shape"
   ]
  },
  {
   "cell_type": "code",
   "execution_count": 17,
   "metadata": {},
   "outputs": [],
   "source": [
    "# train\n",
    "sparse_Xtr = sparse.coo_matrix(x_bow_train).tocsr()\n",
    "fh.save_sparse(sparse_Xtr, os.path.join(raw_data_path, \"scholar\", \"train.npz\"))\n",
    "# test\n",
    "sparse_Xte = sparse.coo_matrix(x_bow_test).tocsr()\n",
    "fh.save_sparse(sparse_Xte, os.path.join(raw_data_path, \"scholar\", \"test.npz\"))"
   ]
  },
  {
   "cell_type": "markdown",
   "metadata": {},
   "source": [
    "## doc IDs"
   ]
  },
  {
   "cell_type": "code",
   "execution_count": 18,
   "metadata": {},
   "outputs": [],
   "source": [
    "train_ids = [\"train_\" + str(x) for x in list(range(x_bow_train.shape[0]))]\n",
    "test_ids = [\"test_\" + str(x) for x in list(range(x_bow_test.shape[0]))]"
   ]
  },
  {
   "cell_type": "code",
   "execution_count": 19,
   "metadata": {},
   "outputs": [],
   "source": [
    "fh.write_to_json(train_ids, output_dir + \"train.ids.json\", indent=2, sort_keys=True)\n",
    "fh.write_to_json(test_ids, output_dir + \"test.ids.json\", indent=2, sort_keys=True)"
   ]
  },
  {
   "cell_type": "markdown",
   "metadata": {},
   "source": [
    "## labels & covariates"
   ]
  },
  {
   "cell_type": "code",
   "execution_count": 24,
   "metadata": {},
   "outputs": [
    {
     "data": {
      "text/html": [
       "<div>\n",
       "<style scoped>\n",
       "    .dataframe tbody tr th:only-of-type {\n",
       "        vertical-align: middle;\n",
       "    }\n",
       "\n",
       "    .dataframe tbody tr th {\n",
       "        vertical-align: top;\n",
       "    }\n",
       "\n",
       "    .dataframe thead th {\n",
       "        text-align: right;\n",
       "    }\n",
       "</style>\n",
       "<table border=\"1\" class=\"dataframe\">\n",
       "  <thead>\n",
       "    <tr style=\"text-align: right;\">\n",
       "      <th></th>\n",
       "      <th>meet_date</th>\n",
       "      <th>GB_date</th>\n",
       "      <th>pt</th>\n",
       "      <th>idMM</th>\n",
       "      <th>header</th>\n",
       "      <th>text</th>\n",
       "      <th>gb_date</th>\n",
       "      <th>fomc_date</th>\n",
       "      <th>yq</th>\n",
       "      <th>unemp0</th>\n",
       "      <th>...</th>\n",
       "      <th>L1cpix_fe3</th>\n",
       "      <th>L1cpix_fe4</th>\n",
       "      <th>L1rgdp_fe1</th>\n",
       "      <th>L1rgdp_fe2</th>\n",
       "      <th>L1rgdp_fe3</th>\n",
       "      <th>L1rgdp_fe4</th>\n",
       "      <th>L1pgdp_fe1</th>\n",
       "      <th>L1pgdp_fe2</th>\n",
       "      <th>L1pgdp_fe3</th>\n",
       "      <th>L1pgdp_fe4</th>\n",
       "    </tr>\n",
       "  </thead>\n",
       "  <tbody>\n",
       "    <tr>\n",
       "      <th>0</th>\n",
       "      <td>1990-02-07</td>\n",
       "      <td>1990-01-31</td>\n",
       "      <td>pt2</td>\n",
       "      <td>Int.DmdEME</td>\n",
       "      <td>Developments in East European Economies</td>\n",
       "      <td>Poland   and Yugoslavia      have  im...</td>\n",
       "      <td>1990-01-31</td>\n",
       "      <td>1990-02-07</td>\n",
       "      <td>1990-01-01</td>\n",
       "      <td>5.5</td>\n",
       "      <td>...</td>\n",
       "      <td>1.4</td>\n",
       "      <td>-0.3</td>\n",
       "      <td>-0.1</td>\n",
       "      <td>0.1</td>\n",
       "      <td>-0.2</td>\n",
       "      <td>-4.7</td>\n",
       "      <td>1.7</td>\n",
       "      <td>0.1</td>\n",
       "      <td>0.2</td>\n",
       "      <td>0.1</td>\n",
       "    </tr>\n",
       "    <tr>\n",
       "      <th>1</th>\n",
       "      <td>1990-03-27</td>\n",
       "      <td>1990-03-21</td>\n",
       "      <td>pt2</td>\n",
       "      <td>Fin.Govt</td>\n",
       "      <td>Municipal Securities</td>\n",
       "      <td>Gross  issuance    of long-term munici...</td>\n",
       "      <td>1990-03-21</td>\n",
       "      <td>1990-03-27</td>\n",
       "      <td>1990-01-01</td>\n",
       "      <td>5.3</td>\n",
       "      <td>...</td>\n",
       "      <td>-0.4</td>\n",
       "      <td>2.2</td>\n",
       "      <td>-1.3</td>\n",
       "      <td>-0.2</td>\n",
       "      <td>-4.8</td>\n",
       "      <td>-4.5</td>\n",
       "      <td>0.7</td>\n",
       "      <td>0.0</td>\n",
       "      <td>0.3</td>\n",
       "      <td>-0.1</td>\n",
       "    </tr>\n",
       "    <tr>\n",
       "      <th>2</th>\n",
       "      <td>1990-05-15</td>\n",
       "      <td>1990-05-09</td>\n",
       "      <td>pt1</td>\n",
       "      <td>For.Ec.Summary</td>\n",
       "      <td>Near-term Economic Conditions</td>\n",
       "      <td>Data   received   since  the  March   ...</td>\n",
       "      <td>1990-05-09</td>\n",
       "      <td>1990-05-15</td>\n",
       "      <td>1990-04-01</td>\n",
       "      <td>5.4</td>\n",
       "      <td>...</td>\n",
       "      <td>-0.5</td>\n",
       "      <td>2.1</td>\n",
       "      <td>-1.3</td>\n",
       "      <td>-0.3</td>\n",
       "      <td>-4.8</td>\n",
       "      <td>-4.1</td>\n",
       "      <td>0.9</td>\n",
       "      <td>0.1</td>\n",
       "      <td>-0.1</td>\n",
       "      <td>0.1</td>\n",
       "    </tr>\n",
       "  </tbody>\n",
       "</table>\n",
       "<p>3 rows × 149 columns</p>\n",
       "</div>"
      ],
      "text/plain": [
       "    meet_date     GB_date   pt            idMM  \\\n",
       "0  1990-02-07  1990-01-31  pt2      Int.DmdEME   \n",
       "1  1990-03-27  1990-03-21  pt2        Fin.Govt   \n",
       "2  1990-05-15  1990-05-09  pt1  For.Ec.Summary   \n",
       "\n",
       "                                     header  \\\n",
       "0   Developments in East European Economies   \n",
       "1                      Municipal Securities   \n",
       "2             Near-term Economic Conditions   \n",
       "\n",
       "                                                text     gb_date   fomc_date  \\\n",
       "0           Poland   and Yugoslavia      have  im...  1990-01-31  1990-02-07   \n",
       "1          Gross  issuance    of long-term munici...  1990-03-21  1990-03-27   \n",
       "2          Data   received   since  the  March   ...  1990-05-09  1990-05-15   \n",
       "\n",
       "           yq  unemp0  ...  L1cpix_fe3  L1cpix_fe4  L1rgdp_fe1  L1rgdp_fe2  \\\n",
       "0  1990-01-01     5.5  ...         1.4        -0.3        -0.1         0.1   \n",
       "1  1990-01-01     5.3  ...        -0.4         2.2        -1.3        -0.2   \n",
       "2  1990-04-01     5.4  ...        -0.5         2.1        -1.3        -0.3   \n",
       "\n",
       "   L1rgdp_fe3  L1rgdp_fe4  L1pgdp_fe1  L1pgdp_fe2  L1pgdp_fe3  L1pgdp_fe4  \n",
       "0        -0.2        -4.7         1.7         0.1         0.2         0.1  \n",
       "1        -4.8        -4.5         0.7         0.0         0.3        -0.1  \n",
       "2        -4.8        -4.1         0.9         0.1        -0.1         0.1  \n",
       "\n",
       "[3 rows x 149 columns]"
      ]
     },
     "execution_count": 24,
     "metadata": {},
     "output_type": "execute_result"
    }
   ],
   "source": [
    "df = pd.read_csv(raw_data_path + \"/datasets_by_meet_date/REGALLTEXT_gb_dataset.csv\", header = 0, index_col = 0)\n",
    "df.head(3)"
   ]
  },
  {
   "cell_type": "code",
   "execution_count": 25,
   "metadata": {},
   "outputs": [],
   "source": [
    "# define variables\n",
    "d_u = df.unemp4 - df.unemp0\n",
    "L1d_u = df.L1unemp4 - df.L1unemp0\n",
    "\n",
    "d_cpi = df.cpi4 - df.cpi0\n",
    "L1d_cpi = df.L1cpi4 - df.L1cpi0\n",
    "\n",
    "d_rgdp = df.rgdp4 - df.rgdp0\n",
    "L1d_rgdp = df.L1rgdp4 - df.L1rgdp0"
   ]
  },
  {
   "cell_type": "code",
   "execution_count": 75,
   "metadata": {},
   "outputs": [
    {
     "name": "stdout",
     "output_type": "stream",
     "text": [
      "(145,) (145, 3) (0,) (0, 3)\n",
      "(145,) (145, 3) (0,) (0, 3)\n",
      "(145,) (145, 3) (0,) (0, 3)\n"
     ]
    }
   ],
   "source": [
    "names = [\"u\",\"cpi\",\"gdp\"]\n",
    "for idx, tv in enumerate([d_u, d_cpi, d_rgdp]):\n",
    "    y = tv\n",
    "    x = df[[\"L1unemp0\",\"L1cpi0\",\"L1rgdp0\"]]\n",
    "\n",
    "    # de-mean data to have fair comparison againt pure OLS\n",
    "    y = y - np.mean(y)\n",
    "    x = x - np.mean(x)\n",
    "\n",
    "    train_y = y[:cut]\n",
    "    train_y.index = train_ids\n",
    "    train_y.to_csv(output_dir + \"train.target_{}.csv\".format(names[idx]))\n",
    "    \n",
    "    test_y = y[cut:]\n",
    "    test_y.index = test_ids\n",
    "    test_y.to_csv(output_dir + \"test.target_{}.csv\".format(names[idx]))\n",
    "    \n",
    "    train_covars = x[:cut]\n",
    "    train_covars.index = train_ids\n",
    "    train_covars.to_csv(output_dir + \"train.covars_{}.csv\".format(names[idx]))\n",
    "    \n",
    "    test_covars = x[cut:]\n",
    "    test_covars.index = test_ids\n",
    "    test_covars.to_csv(output_dir + \"test.covars_{}.csv\".format(names[idx]))\n",
    "    \n",
    "    print(train_y.shape, train_covars.shape, test_y.shape, test_covars.shape)"
   ]
  },
  {
   "cell_type": "code",
   "execution_count": null,
   "metadata": {},
   "outputs": [],
   "source": []
  }
 ],
 "metadata": {
  "kernelspec": {
   "display_name": "Python 3",
   "language": "python",
   "name": "python3"
  },
  "language_info": {
   "codemirror_mode": {
    "name": "ipython",
    "version": 3
   },
   "file_extension": ".py",
   "mimetype": "text/x-python",
   "name": "python",
   "nbconvert_exporter": "python",
   "pygments_lexer": "ipython3",
   "version": "3.6.5"
  }
 },
 "nbformat": 4,
 "nbformat_minor": 5
}
