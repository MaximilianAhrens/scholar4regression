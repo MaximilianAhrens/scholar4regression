{
 "cells": [
  {
   "cell_type": "markdown",
   "metadata": {},
   "source": [
    "# Evaluate SCHOLAR results"
   ]
  },
  {
   "cell_type": "code",
   "execution_count": 3,
   "metadata": {},
   "outputs": [],
   "source": [
    "dataset = \"booking\""
   ]
  },
  {
   "cell_type": "code",
   "execution_count": 4,
   "metadata": {},
   "outputs": [],
   "source": [
    "import os, sys, scipy, json\n",
    "from scipy import sparse\n",
    "import codecs\n",
    "import numpy as np\n",
    "import pandas as pd\n",
    "import file_handling as fh\n",
    "from sklearn.model_selection import train_test_split"
   ]
  },
  {
   "cell_type": "markdown",
   "metadata": {},
   "source": [
    "## load data and save in SCHOLAR format"
   ]
  },
  {
   "cell_type": "code",
   "execution_count": 9,
   "metadata": {},
   "outputs": [
    {
     "name": "stdout",
     "output_type": "stream",
     "text": [
      "/nfs/home/maxa/results/booking/scholar/\n"
     ]
    }
   ],
   "source": [
    "if sys.platform == \"darwin\":\n",
    "    pass\n",
    "else:\n",
    "    input_dir = \"/nfs/home/maxa/results/\"+dataset+'/scholar/'\n",
    "print(input_dir)\n",
    "#try:\n",
    "#    os.mkdir(output_dir)\n",
    "#except:\n",
    "#pass"
   ]
  },
  {
   "cell_type": "code",
   "execution_count": 10,
   "metadata": {},
   "outputs": [
    {
     "data": {
      "text/plain": [
       "['w_intercept', 'k_200', 'k_30', 'k_150', 'k_20', 'k_10', 'k_100', 'k_50']"
      ]
     },
     "execution_count": 10,
     "metadata": {},
     "output_type": "execute_result"
    }
   ],
   "source": [
    "os.listdir(input_dir)"
   ]
  },
  {
   "cell_type": "code",
   "execution_count": 11,
   "metadata": {},
   "outputs": [],
   "source": [
    "ks = ['k_200', 'k_30', 'k_150', 'k_20', 'k_10', 'k_100', 'k_50']"
   ]
  },
  {
   "cell_type": "code",
   "execution_count": 15,
   "metadata": {},
   "outputs": [],
   "source": [
    "for k in ks:\n",
    "    runs_dir = input_dir + k"
   ]
  },
  {
   "cell_type": "code",
   "execution_count": 27,
   "metadata": {},
   "outputs": [
    {
     "data": {
      "text/plain": [
       "'/nfs/home/maxa/results/booking/scholar/k_50'"
      ]
     },
     "execution_count": 27,
     "metadata": {},
     "output_type": "execute_result"
    }
   ],
   "source": [
    "runs_dir"
   ]
  },
  {
   "cell_type": "code",
   "execution_count": 28,
   "metadata": {},
   "outputs": [
    {
     "data": {
      "text/plain": [
       "'k50_ep200_run_1'"
      ]
     },
     "execution_count": 28,
     "metadata": {},
     "output_type": "execute_result"
    }
   ],
   "source": [
    "run"
   ]
  },
  {
   "cell_type": "code",
   "execution_count": 24,
   "metadata": {},
   "outputs": [],
   "source": [
    "run = os.listdir(runs_dir)[0]"
   ]
  },
  {
   "cell_type": "code",
   "execution_count": 35,
   "metadata": {},
   "outputs": [
    {
     "data": {
      "text/plain": [
       "0.4961835142450908"
      ]
     },
     "execution_count": 35,
     "metadata": {},
     "output_type": "execute_result"
    }
   ],
   "source": [
    "pd.read_csv(os.path.join(runs_dir,run,'test_eval_pR2.txt'), header = None).values[0][0]"
   ]
  },
  {
   "cell_type": "code",
   "execution_count": 82,
   "metadata": {},
   "outputs": [],
   "source": [
    "pR = pd.DataFrame()\n",
    "mse = pd.DataFrame()\n",
    "pplxy = pd.DataFrame()\n",
    "for k in ks:\n",
    "    pRs = []\n",
    "    mses = []\n",
    "    pplxies = []\n",
    "    runs_dir = input_dir + k\n",
    "    for run in os.listdir(runs_dir):\n",
    "        pRs.append(pd.read_csv(os.path.join(runs_dir,run,'test_eval_pR2.txt'),\n",
    "                               header = None).values[0][0])\n",
    "        mses.append(pd.read_csv(os.path.join(runs_dir,run,'test_eval_mse.txt'),\n",
    "                               header = None).values[0][0])\n",
    "        pplxies.append(pd.read_csv(os.path.join(runs_dir,run,'test_eval_perplexity.txt'),\n",
    "                               header = None).values[0][0]) \n",
    "    pR = pd.concat([pR,pd.DataFrame(pRs, columns=[k])], ignore_index=True, axis=1)\n",
    "    mse = pd.concat([mse,pd.DataFrame(mses, columns=[k])], ignore_index=True, axis=1)\n",
    "    pplxy = pd.concat([pplxy,pd.DataFrame(pplxies, columns=[k])], ignore_index=True, axis=1)\n",
    "pR.columns = ks\n",
    "mse.columns = ks\n",
    "pplxy.columns = ks\n",
    "        "
   ]
  },
  {
   "cell_type": "code",
   "execution_count": 96,
   "metadata": {},
   "outputs": [
    {
     "data": {
      "text/html": [
       "<div>\n",
       "<style scoped>\n",
       "    .dataframe tbody tr th:only-of-type {\n",
       "        vertical-align: middle;\n",
       "    }\n",
       "\n",
       "    .dataframe tbody tr th {\n",
       "        vertical-align: top;\n",
       "    }\n",
       "\n",
       "    .dataframe thead th {\n",
       "        text-align: right;\n",
       "    }\n",
       "</style>\n",
       "<table border=\"1\" class=\"dataframe\">\n",
       "  <thead>\n",
       "    <tr style=\"text-align: right;\">\n",
       "      <th></th>\n",
       "      <th>mean</th>\n",
       "      <th>std</th>\n",
       "    </tr>\n",
       "  </thead>\n",
       "  <tbody>\n",
       "    <tr>\n",
       "      <th>k_200</th>\n",
       "      <td>0.378978</td>\n",
       "      <td>0.042709</td>\n",
       "    </tr>\n",
       "    <tr>\n",
       "      <th>k_30</th>\n",
       "      <td>0.494797</td>\n",
       "      <td>0.002571</td>\n",
       "    </tr>\n",
       "    <tr>\n",
       "      <th>k_150</th>\n",
       "      <td>0.477114</td>\n",
       "      <td>0.033447</td>\n",
       "    </tr>\n",
       "    <tr>\n",
       "      <th>k_20</th>\n",
       "      <td>0.495444</td>\n",
       "      <td>0.003129</td>\n",
       "    </tr>\n",
       "    <tr>\n",
       "      <th>k_10</th>\n",
       "      <td>0.493897</td>\n",
       "      <td>0.004791</td>\n",
       "    </tr>\n",
       "    <tr>\n",
       "      <th>k_100</th>\n",
       "      <td>0.489331</td>\n",
       "      <td>0.002454</td>\n",
       "    </tr>\n",
       "    <tr>\n",
       "      <th>k_50</th>\n",
       "      <td>0.493856</td>\n",
       "      <td>0.003874</td>\n",
       "    </tr>\n",
       "  </tbody>\n",
       "</table>\n",
       "</div>"
      ],
      "text/plain": [
       "           mean       std\n",
       "k_200  0.378978  0.042709\n",
       "k_30   0.494797  0.002571\n",
       "k_150  0.477114  0.033447\n",
       "k_20   0.495444  0.003129\n",
       "k_10   0.493897  0.004791\n",
       "k_100  0.489331  0.002454\n",
       "k_50   0.493856  0.003874"
      ]
     },
     "execution_count": 96,
     "metadata": {},
     "output_type": "execute_result"
    }
   ],
   "source": [
    "pr_stats = pR.describe().T\n",
    "pr_stats[[\"mean\",'std']]"
   ]
  },
  {
   "cell_type": "code",
   "execution_count": 97,
   "metadata": {},
   "outputs": [
    {
     "data": {
      "text/html": [
       "<div>\n",
       "<style scoped>\n",
       "    .dataframe tbody tr th:only-of-type {\n",
       "        vertical-align: middle;\n",
       "    }\n",
       "\n",
       "    .dataframe tbody tr th {\n",
       "        vertical-align: top;\n",
       "    }\n",
       "\n",
       "    .dataframe thead th {\n",
       "        text-align: right;\n",
       "    }\n",
       "</style>\n",
       "<table border=\"1\" class=\"dataframe\">\n",
       "  <thead>\n",
       "    <tr style=\"text-align: right;\">\n",
       "      <th></th>\n",
       "      <th>mean</th>\n",
       "      <th>std</th>\n",
       "    </tr>\n",
       "  </thead>\n",
       "  <tbody>\n",
       "    <tr>\n",
       "      <th>k_200</th>\n",
       "      <td>4.769491e+19</td>\n",
       "      <td>2.132981e+20</td>\n",
       "    </tr>\n",
       "    <tr>\n",
       "      <th>k_30</th>\n",
       "      <td>2.110260e+03</td>\n",
       "      <td>3.964802e+02</td>\n",
       "    </tr>\n",
       "    <tr>\n",
       "      <th>k_150</th>\n",
       "      <td>1.455880e+20</td>\n",
       "      <td>6.346033e+20</td>\n",
       "    </tr>\n",
       "    <tr>\n",
       "      <th>k_20</th>\n",
       "      <td>1.420071e+03</td>\n",
       "      <td>1.636719e+02</td>\n",
       "    </tr>\n",
       "    <tr>\n",
       "      <th>k_10</th>\n",
       "      <td>9.412744e+02</td>\n",
       "      <td>1.346046e+02</td>\n",
       "    </tr>\n",
       "    <tr>\n",
       "      <th>k_100</th>\n",
       "      <td>3.160195e+04</td>\n",
       "      <td>1.959027e+04</td>\n",
       "    </tr>\n",
       "    <tr>\n",
       "      <th>k_50</th>\n",
       "      <td>5.014065e+03</td>\n",
       "      <td>1.314977e+03</td>\n",
       "    </tr>\n",
       "  </tbody>\n",
       "</table>\n",
       "</div>"
      ],
      "text/plain": [
       "               mean           std\n",
       "k_200  4.769491e+19  2.132981e+20\n",
       "k_30   2.110260e+03  3.964802e+02\n",
       "k_150  1.455880e+20  6.346033e+20\n",
       "k_20   1.420071e+03  1.636719e+02\n",
       "k_10   9.412744e+02  1.346046e+02\n",
       "k_100  3.160195e+04  1.959027e+04\n",
       "k_50   5.014065e+03  1.314977e+03"
      ]
     },
     "execution_count": 97,
     "metadata": {},
     "output_type": "execute_result"
    }
   ],
   "source": [
    "pplxy_stats = pplxy.describe().T\n",
    "pplxy_stats[[\"mean\",'std']]"
   ]
  },
  {
   "cell_type": "code",
   "execution_count": null,
   "metadata": {},
   "outputs": [],
   "source": []
  }
 ],
 "metadata": {
  "kernelspec": {
   "display_name": "Python 3",
   "language": "python",
   "name": "python3"
  },
  "language_info": {
   "codemirror_mode": {
    "name": "ipython",
    "version": 3
   },
   "file_extension": ".py",
   "mimetype": "text/x-python",
   "name": "python",
   "nbconvert_exporter": "python",
   "pygments_lexer": "ipython3",
   "version": "3.6.5"
  }
 },
 "nbformat": 4,
 "nbformat_minor": 5
}
