{
 "cells": [
  {
   "cell_type": "markdown",
   "metadata": {},
   "source": [
    "# Import and format MP data datasets for SCHOLAR"
   ]
  },
  {
   "cell_type": "code",
   "execution_count": 87,
   "metadata": {},
   "outputs": [],
   "source": [
    "import os, sys, scipy, json\n",
    "from scipy import sparse\n",
    "import codecs\n",
    "import numpy as np\n",
    "import pandas as pd\n",
    "import file_handling as fh"
   ]
  },
  {
   "cell_type": "markdown",
   "metadata": {},
   "source": [
    "# MP speeches"
   ]
  },
  {
   "cell_type": "markdown",
   "metadata": {},
   "source": [
    "## load booking data and save in SCHOLAR format"
   ]
  },
  {
   "cell_type": "code",
   "execution_count": 89,
   "metadata": {},
   "outputs": [
    {
     "name": "stdout",
     "output_type": "stream",
     "text": [
      "/nfs/home/maxa/data/mp_speeches/ \n",
      " /nfs/home/maxa/data/mp_speeches/scholar_speechesonly_traindev/\n"
     ]
    }
   ],
   "source": [
    "if sys.platform == \"darwin\":\n",
    "    pass\n",
    "else:\n",
    "    raw_data_path = \"/nfs/home/maxa/data/mp_speeches/\"\n",
    "    # gb_speech_alltext\n",
    "    #output_dir = raw_data_path + \"scholar_alltext_traindev/\"\n",
    "    # gb_speech_specifictexts\n",
    "    #output_dir = raw_data_path + \"scholar_specifictexts_traindev/\"\n",
    "    # speeches_only\n",
    "    output_dir = raw_data_path + \"scholar_speechesonly_traindev/\"\n",
    "try:\n",
    "    os.mkdir(output_dir)\n",
    "except:\n",
    "    pass\n",
    "print(raw_data_path, \"\\n\",output_dir)"
   ]
  },
  {
   "cell_type": "markdown",
   "metadata": {},
   "source": [
    "## vocab"
   ]
  },
  {
   "cell_type": "code",
   "execution_count": 90,
   "metadata": {},
   "outputs": [
    {
     "data": {
      "text/plain": [
       "2034"
      ]
     },
     "execution_count": 90,
     "metadata": {},
     "output_type": "execute_result"
    }
   ],
   "source": [
    "vocab_df = pd.read_csv(raw_data_path +'/vocab_gb+speeches/alltextvocab_tokens_tfidf17.csv', header = None)\n",
    "vocab = list(vocab_df[1])\n",
    "len(vocab)"
   ]
  },
  {
   "cell_type": "code",
   "execution_count": 91,
   "metadata": {},
   "outputs": [
    {
     "data": {
      "text/plain": [
       "['about',\n",
       " 'abroad',\n",
       " 'absence',\n",
       " 'absorb',\n",
       " 'academic',\n",
       " 'accelerate',\n",
       " 'accelerated',\n",
       " 'acceleration',\n",
       " 'accept',\n",
       " 'access',\n",
       " 'accommodation',\n",
       " 'accommodative',\n",
       " 'accompanied',\n",
       " 'accord',\n",
       " 'accordingly',\n",
       " 'accountability',\n",
       " 'accounted',\n",
       " 'accounting',\n",
       " 'accounts',\n",
       " 'accumulation']"
      ]
     },
     "execution_count": 91,
     "metadata": {},
     "output_type": "execute_result"
    }
   ],
   "source": [
    "vocab[:20]"
   ]
  },
  {
   "cell_type": "code",
   "execution_count": 92,
   "metadata": {},
   "outputs": [],
   "source": [
    "fh.write_to_json(vocab, output_dir + \"train.vocab.json\", indent=2, sort_keys=True)"
   ]
  },
  {
   "cell_type": "markdown",
   "metadata": {},
   "source": [
    "## dtm GB train"
   ]
  },
  {
   "cell_type": "code",
   "execution_count": 93,
   "metadata": {},
   "outputs": [],
   "source": [
    "x_bow_gb = np.load(raw_data_path + \"gb_dtm+data/REGALLTEXT_dtm_unigrams_alltext_tfidf17.npy\")"
   ]
  },
  {
   "cell_type": "code",
   "execution_count": 94,
   "metadata": {},
   "outputs": [
    {
     "data": {
      "text/plain": [
       "(145, 2034)"
      ]
     },
     "execution_count": 94,
     "metadata": {},
     "output_type": "execute_result"
    }
   ],
   "source": [
    "x_bow_gb.shape"
   ]
  },
  {
   "cell_type": "code",
   "execution_count": 95,
   "metadata": {},
   "outputs": [],
   "source": [
    "x_bow_train = np.matrix(x_bow_gb)"
   ]
  },
  {
   "cell_type": "code",
   "execution_count": 96,
   "metadata": {},
   "outputs": [
    {
     "data": {
      "text/plain": [
       "(145, 2034)"
      ]
     },
     "execution_count": 96,
     "metadata": {},
     "output_type": "execute_result"
    }
   ],
   "source": [
    "x_bow_train.shape"
   ]
  },
  {
   "cell_type": "code",
   "execution_count": 97,
   "metadata": {},
   "outputs": [],
   "source": [
    "# train\n",
    "sparse_Xtr = sparse.coo_matrix(x_bow_train).tocsr()\n",
    "fh.save_sparse(sparse_Xtr, os.path.join(output_dir, \"train.npz\"))"
   ]
  },
  {
   "cell_type": "code",
   "execution_count": 98,
   "metadata": {},
   "outputs": [
    {
     "data": {
      "text/plain": [
       "(145, 2034)"
      ]
     },
     "execution_count": 98,
     "metadata": {},
     "output_type": "execute_result"
    }
   ],
   "source": [
    "sparse_Xtr.shape"
   ]
  },
  {
   "cell_type": "markdown",
   "metadata": {},
   "source": [
    "# speech labels & covariates"
   ]
  },
  {
   "cell_type": "code",
   "execution_count": 52,
   "metadata": {},
   "outputs": [
    {
     "name": "stdout",
     "output_type": "stream",
     "text": [
      "(2930, 146)\n"
     ]
    },
    {
     "data": {
      "text/html": [
       "<div>\n",
       "<style scoped>\n",
       "    .dataframe tbody tr th:only-of-type {\n",
       "        vertical-align: middle;\n",
       "    }\n",
       "\n",
       "    .dataframe tbody tr th {\n",
       "        vertical-align: top;\n",
       "    }\n",
       "\n",
       "    .dataframe thead th {\n",
       "        text-align: right;\n",
       "    }\n",
       "</style>\n",
       "<table border=\"1\" class=\"dataframe\">\n",
       "  <thead>\n",
       "    <tr style=\"text-align: right;\">\n",
       "      <th></th>\n",
       "      <th>gb_date</th>\n",
       "      <th>fomc_date</th>\n",
       "      <th>yq</th>\n",
       "      <th>unemp0</th>\n",
       "      <th>unemp1</th>\n",
       "      <th>unemp2</th>\n",
       "      <th>unemp3</th>\n",
       "      <th>unemp4</th>\n",
       "      <th>cpi0</th>\n",
       "      <th>cpi1</th>\n",
       "      <th>...</th>\n",
       "      <th>L1rgdp_fe2</th>\n",
       "      <th>L1rgdp_fe3</th>\n",
       "      <th>L1rgdp_fe4</th>\n",
       "      <th>L1pgdp_fe1</th>\n",
       "      <th>L1pgdp_fe2</th>\n",
       "      <th>L1pgdp_fe3</th>\n",
       "      <th>L1pgdp_fe4</th>\n",
       "      <th>branch</th>\n",
       "      <th>speaker</th>\n",
       "      <th>info_gap</th>\n",
       "    </tr>\n",
       "    <tr>\n",
       "      <th>date</th>\n",
       "      <th></th>\n",
       "      <th></th>\n",
       "      <th></th>\n",
       "      <th></th>\n",
       "      <th></th>\n",
       "      <th></th>\n",
       "      <th></th>\n",
       "      <th></th>\n",
       "      <th></th>\n",
       "      <th></th>\n",
       "      <th></th>\n",
       "      <th></th>\n",
       "      <th></th>\n",
       "      <th></th>\n",
       "      <th></th>\n",
       "      <th></th>\n",
       "      <th></th>\n",
       "      <th></th>\n",
       "      <th></th>\n",
       "      <th></th>\n",
       "      <th></th>\n",
       "    </tr>\n",
       "  </thead>\n",
       "  <tbody>\n",
       "    <tr>\n",
       "      <th>1993-04-02</th>\n",
       "      <td>1993-03-17</td>\n",
       "      <td>1993-03-23</td>\n",
       "      <td>1993-01-01</td>\n",
       "      <td>7.0</td>\n",
       "      <td>7.0</td>\n",
       "      <td>6.9</td>\n",
       "      <td>6.9</td>\n",
       "      <td>6.8</td>\n",
       "      <td>3.8</td>\n",
       "      <td>2.7</td>\n",
       "      <td>...</td>\n",
       "      <td>-1.7</td>\n",
       "      <td>2.1</td>\n",
       "      <td>0.3</td>\n",
       "      <td>0.4</td>\n",
       "      <td>0.1</td>\n",
       "      <td>0.2</td>\n",
       "      <td>0.2</td>\n",
       "      <td>RIC</td>\n",
       "      <td>broaddus</td>\n",
       "      <td>16</td>\n",
       "    </tr>\n",
       "    <tr>\n",
       "      <th>1995-03-16</th>\n",
       "      <td>1995-01-25</td>\n",
       "      <td>1995-02-01</td>\n",
       "      <td>1995-01-01</td>\n",
       "      <td>5.3</td>\n",
       "      <td>5.3</td>\n",
       "      <td>5.4</td>\n",
       "      <td>5.4</td>\n",
       "      <td>5.5</td>\n",
       "      <td>2.9</td>\n",
       "      <td>2.9</td>\n",
       "      <td>...</td>\n",
       "      <td>-2.5</td>\n",
       "      <td>0.9</td>\n",
       "      <td>0.7</td>\n",
       "      <td>0.2</td>\n",
       "      <td>-0.4</td>\n",
       "      <td>0.2</td>\n",
       "      <td>-0.5</td>\n",
       "      <td>RIC</td>\n",
       "      <td>broaddus</td>\n",
       "      <td>50</td>\n",
       "    </tr>\n",
       "    <tr>\n",
       "      <th>1996-01-11</th>\n",
       "      <td>1995-12-14</td>\n",
       "      <td>1995-12-19</td>\n",
       "      <td>1995-10-01</td>\n",
       "      <td>5.6</td>\n",
       "      <td>5.6</td>\n",
       "      <td>5.6</td>\n",
       "      <td>5.6</td>\n",
       "      <td>5.6</td>\n",
       "      <td>2.3</td>\n",
       "      <td>3.1</td>\n",
       "      <td>...</td>\n",
       "      <td>1.1</td>\n",
       "      <td>0.3</td>\n",
       "      <td>-0.4</td>\n",
       "      <td>0.5</td>\n",
       "      <td>-0.1</td>\n",
       "      <td>0.0</td>\n",
       "      <td>0.6</td>\n",
       "      <td>NY</td>\n",
       "      <td>sp</td>\n",
       "      <td>28</td>\n",
       "    </tr>\n",
       "  </tbody>\n",
       "</table>\n",
       "<p>3 rows × 146 columns</p>\n",
       "</div>"
      ],
      "text/plain": [
       "               gb_date   fomc_date          yq  unemp0  unemp1  unemp2  \\\n",
       "date                                                                     \n",
       "1993-04-02  1993-03-17  1993-03-23  1993-01-01     7.0     7.0     6.9   \n",
       "1995-03-16  1995-01-25  1995-02-01  1995-01-01     5.3     5.3     5.4   \n",
       "1996-01-11  1995-12-14  1995-12-19  1995-10-01     5.6     5.6     5.6   \n",
       "\n",
       "            unemp3  unemp4  cpi0  cpi1  ...  L1rgdp_fe2  L1rgdp_fe3  \\\n",
       "date                                    ...                           \n",
       "1993-04-02     6.9     6.8   3.8   2.7  ...        -1.7         2.1   \n",
       "1995-03-16     5.4     5.5   2.9   2.9  ...        -2.5         0.9   \n",
       "1996-01-11     5.6     5.6   2.3   3.1  ...         1.1         0.3   \n",
       "\n",
       "            L1rgdp_fe4  L1pgdp_fe1  L1pgdp_fe2  L1pgdp_fe3  L1pgdp_fe4  \\\n",
       "date                                                                     \n",
       "1993-04-02         0.3         0.4         0.1         0.2         0.2   \n",
       "1995-03-16         0.7         0.2        -0.4         0.2        -0.5   \n",
       "1996-01-11        -0.4         0.5        -0.1         0.0         0.6   \n",
       "\n",
       "            branch   speaker  info_gap  \n",
       "date                                    \n",
       "1993-04-02     RIC  broaddus        16  \n",
       "1995-03-16     RIC  broaddus        50  \n",
       "1996-01-11      NY        sp        28  \n",
       "\n",
       "[3 rows x 146 columns]"
      ]
     },
     "execution_count": 52,
     "metadata": {},
     "output_type": "execute_result"
    }
   ],
   "source": [
    "df_speeches = pd.read_csv(raw_data_path + \"speeches_dtm+data/speeches_metadata_tfidf17.csv\", header = 0, index_col = 0)\n",
    "print(df_speeches.shape)\n",
    "df_speeches.head(3)"
   ]
  },
  {
   "cell_type": "markdown",
   "metadata": {},
   "source": [
    "## dtm SPEECHES dev and test set"
   ]
  },
  {
   "cell_type": "code",
   "execution_count": 53,
   "metadata": {},
   "outputs": [],
   "source": [
    "x_bow_speech_raw = np.load(raw_data_path + \"speeches_dtm+data/alltextvocab_speeches_dtm_tfidf17_hasmetadata.npy\")"
   ]
  },
  {
   "cell_type": "code",
   "execution_count": 54,
   "metadata": {},
   "outputs": [
    {
     "data": {
      "text/plain": [
       "(2930, 2034)"
      ]
     },
     "execution_count": 54,
     "metadata": {},
     "output_type": "execute_result"
    }
   ],
   "source": [
    "x_bow_speech_raw.shape"
   ]
  },
  {
   "cell_type": "code",
   "execution_count": 55,
   "metadata": {},
   "outputs": [],
   "source": [
    "x_bow_speech = np.matrix(x_bow_speech_raw)"
   ]
  },
  {
   "cell_type": "code",
   "execution_count": 56,
   "metadata": {},
   "outputs": [
    {
     "data": {
      "text/plain": [
       "(2930, 2034)"
      ]
     },
     "execution_count": 56,
     "metadata": {},
     "output_type": "execute_result"
    }
   ],
   "source": [
    "x_bow_speech.shape"
   ]
  },
  {
   "cell_type": "markdown",
   "metadata": {},
   "source": [
    "# check for empty documents"
   ]
  },
  {
   "cell_type": "code",
   "execution_count": 57,
   "metadata": {},
   "outputs": [],
   "source": [
    "keep = np.sum(x_bow_speech,axis = 1) != 0"
   ]
  },
  {
   "cell_type": "code",
   "execution_count": 86,
   "metadata": {},
   "outputs": [],
   "source": [
    "pd.DataFrame(keep).to_csv(raw_data_path + \"speeches_dtm+data/delete_empty_speeches.csv\")"
   ]
  },
  {
   "cell_type": "code",
   "execution_count": 58,
   "metadata": {},
   "outputs": [],
   "source": [
    "df_bow = pd.DataFrame(x_bow_speech)"
   ]
  },
  {
   "cell_type": "code",
   "execution_count": 59,
   "metadata": {},
   "outputs": [],
   "source": [
    "df_bow = df_bow[keep]\n",
    "df_speeches = df_speeches[keep]"
   ]
  },
  {
   "cell_type": "code",
   "execution_count": 61,
   "metadata": {},
   "outputs": [
    {
     "data": {
      "text/plain": [
       "((2928, 2034), (2928, 146))"
      ]
     },
     "execution_count": 61,
     "metadata": {},
     "output_type": "execute_result"
    }
   ],
   "source": [
    "df_bow.shape, df_speeches.shape"
   ]
  },
  {
   "cell_type": "code",
   "execution_count": 62,
   "metadata": {},
   "outputs": [],
   "source": [
    "x_bow_speech = np.matrix(df_bow)"
   ]
  },
  {
   "cell_type": "code",
   "execution_count": 64,
   "metadata": {},
   "outputs": [
    {
     "data": {
      "text/plain": [
       "(2928, 2034)"
      ]
     },
     "execution_count": 64,
     "metadata": {},
     "output_type": "execute_result"
    }
   ],
   "source": [
    "x_bow_speech.shape"
   ]
  },
  {
   "cell_type": "code",
   "execution_count": 65,
   "metadata": {},
   "outputs": [
    {
     "data": {
      "text/plain": [
       "2928"
      ]
     },
     "execution_count": 65,
     "metadata": {},
     "output_type": "execute_result"
    }
   ],
   "source": [
    "cut = int(1.0*x_bow_speech.shape[0])\n",
    "cut"
   ]
  },
  {
   "cell_type": "code",
   "execution_count": 66,
   "metadata": {},
   "outputs": [
    {
     "data": {
      "text/plain": [
       "((2928, 2034), (0, 2034))"
      ]
     },
     "execution_count": 66,
     "metadata": {},
     "output_type": "execute_result"
    }
   ],
   "source": [
    "x_bow_dev = x_bow_speech[:cut]\n",
    "x_bow_test = x_bow_speech[cut:]\n",
    "x_bow_dev.shape, x_bow_test.shape"
   ]
  },
  {
   "cell_type": "code",
   "execution_count": 67,
   "metadata": {},
   "outputs": [
    {
     "name": "stdout",
     "output_type": "stream",
     "text": [
      "(2928, 2034)\n"
     ]
    }
   ],
   "source": [
    "# save val set if >0\n",
    "if x_bow_dev.shape[0] > 0:\n",
    "    sparse_Xtr_dev = sparse.coo_matrix(x_bow_dev).tocsr()\n",
    "    fh.save_sparse(sparse_Xtr_dev, os.path.join(output_dir, \"dev.npz\"))\n",
    "    print(sparse_Xtr_dev.shape)"
   ]
  },
  {
   "cell_type": "code",
   "execution_count": 68,
   "metadata": {},
   "outputs": [],
   "source": [
    "if x_bow_test.shape[0] > 0:\n",
    "    sparse_Xtr_test = sparse.coo_matrix(x_bow_train).tocsr()\n",
    "    fh.save_sparse(sparse_Xtr_test, os.path.join(output_dir, \"test.npz\"))\n",
    "    print(sparse_Xtr_test.shape)"
   ]
  },
  {
   "cell_type": "markdown",
   "metadata": {},
   "source": [
    "## doc IDs"
   ]
  },
  {
   "cell_type": "code",
   "execution_count": 74,
   "metadata": {},
   "outputs": [
    {
     "data": {
      "text/plain": [
       "(145, 2928)"
      ]
     },
     "execution_count": 74,
     "metadata": {},
     "output_type": "execute_result"
    }
   ],
   "source": [
    "train_ids = [\"train_\" + str(x) for x in list(range(x_bow_train.shape[0]))]\n",
    "dev_ids = [\"dev_\" + str(x) for x in list(range(x_bow_dev.shape[0]))]\n",
    "test_ids = [\"test_\" + str(x) for x in list(range(x_bow_test.shape[0]))]\n",
    "len(train_ids),len(dev_ids)"
   ]
  },
  {
   "cell_type": "code",
   "execution_count": 75,
   "metadata": {},
   "outputs": [],
   "source": [
    "fh.write_to_json(train_ids, output_dir + \"train.ids.json\", indent=2, sort_keys=True)\n",
    "if x_bow_dev.shape[0] > 0:\n",
    "    fh.write_to_json(dev_ids, output_dir + \"dev.ids.json\", indent=2, sort_keys=True)\n",
    "if x_bow_test.shape[0] > 0:\n",
    "    fh.write_to_json(test_ids, output_dir + \"test.ids.json\", indent=2, sort_keys=True)"
   ]
  },
  {
   "cell_type": "markdown",
   "metadata": {},
   "source": [
    "## labels & covariates"
   ]
  },
  {
   "cell_type": "code",
   "execution_count": 78,
   "metadata": {},
   "outputs": [
    {
     "name": "stdout",
     "output_type": "stream",
     "text": [
      "(145, 149)\n"
     ]
    },
    {
     "data": {
      "text/html": [
       "<div>\n",
       "<style scoped>\n",
       "    .dataframe tbody tr th:only-of-type {\n",
       "        vertical-align: middle;\n",
       "    }\n",
       "\n",
       "    .dataframe tbody tr th {\n",
       "        vertical-align: top;\n",
       "    }\n",
       "\n",
       "    .dataframe thead th {\n",
       "        text-align: right;\n",
       "    }\n",
       "</style>\n",
       "<table border=\"1\" class=\"dataframe\">\n",
       "  <thead>\n",
       "    <tr style=\"text-align: right;\">\n",
       "      <th></th>\n",
       "      <th>meet_date</th>\n",
       "      <th>GB_date</th>\n",
       "      <th>pt</th>\n",
       "      <th>idMM</th>\n",
       "      <th>header</th>\n",
       "      <th>text</th>\n",
       "      <th>gb_date</th>\n",
       "      <th>fomc_date</th>\n",
       "      <th>yq</th>\n",
       "      <th>unemp0</th>\n",
       "      <th>...</th>\n",
       "      <th>L1cpix_fe3</th>\n",
       "      <th>L1cpix_fe4</th>\n",
       "      <th>L1rgdp_fe1</th>\n",
       "      <th>L1rgdp_fe2</th>\n",
       "      <th>L1rgdp_fe3</th>\n",
       "      <th>L1rgdp_fe4</th>\n",
       "      <th>L1pgdp_fe1</th>\n",
       "      <th>L1pgdp_fe2</th>\n",
       "      <th>L1pgdp_fe3</th>\n",
       "      <th>L1pgdp_fe4</th>\n",
       "    </tr>\n",
       "  </thead>\n",
       "  <tbody>\n",
       "    <tr>\n",
       "      <th>0</th>\n",
       "      <td>1990-02-07</td>\n",
       "      <td>1990-01-31</td>\n",
       "      <td>pt2</td>\n",
       "      <td>Int.DmdEME</td>\n",
       "      <td>Developments in East European Economies</td>\n",
       "      <td>Poland   and Yugoslavia      have  im...</td>\n",
       "      <td>1990-01-31</td>\n",
       "      <td>1990-02-07</td>\n",
       "      <td>1990-01-01</td>\n",
       "      <td>5.5</td>\n",
       "      <td>...</td>\n",
       "      <td>1.4</td>\n",
       "      <td>-0.3</td>\n",
       "      <td>-0.1</td>\n",
       "      <td>0.1</td>\n",
       "      <td>-0.2</td>\n",
       "      <td>-4.7</td>\n",
       "      <td>1.7</td>\n",
       "      <td>0.1</td>\n",
       "      <td>0.2</td>\n",
       "      <td>0.1</td>\n",
       "    </tr>\n",
       "    <tr>\n",
       "      <th>1</th>\n",
       "      <td>1990-03-27</td>\n",
       "      <td>1990-03-21</td>\n",
       "      <td>pt2</td>\n",
       "      <td>Fin.Govt</td>\n",
       "      <td>Municipal Securities</td>\n",
       "      <td>Gross  issuance    of long-term munici...</td>\n",
       "      <td>1990-03-21</td>\n",
       "      <td>1990-03-27</td>\n",
       "      <td>1990-01-01</td>\n",
       "      <td>5.3</td>\n",
       "      <td>...</td>\n",
       "      <td>-0.4</td>\n",
       "      <td>2.2</td>\n",
       "      <td>-1.3</td>\n",
       "      <td>-0.2</td>\n",
       "      <td>-4.8</td>\n",
       "      <td>-4.5</td>\n",
       "      <td>0.7</td>\n",
       "      <td>0.0</td>\n",
       "      <td>0.3</td>\n",
       "      <td>-0.1</td>\n",
       "    </tr>\n",
       "    <tr>\n",
       "      <th>2</th>\n",
       "      <td>1990-05-15</td>\n",
       "      <td>1990-05-09</td>\n",
       "      <td>pt1</td>\n",
       "      <td>For.Ec.Summary</td>\n",
       "      <td>Near-term Economic Conditions</td>\n",
       "      <td>Data   received   since  the  March   ...</td>\n",
       "      <td>1990-05-09</td>\n",
       "      <td>1990-05-15</td>\n",
       "      <td>1990-04-01</td>\n",
       "      <td>5.4</td>\n",
       "      <td>...</td>\n",
       "      <td>-0.5</td>\n",
       "      <td>2.1</td>\n",
       "      <td>-1.3</td>\n",
       "      <td>-0.3</td>\n",
       "      <td>-4.8</td>\n",
       "      <td>-4.1</td>\n",
       "      <td>0.9</td>\n",
       "      <td>0.1</td>\n",
       "      <td>-0.1</td>\n",
       "      <td>0.1</td>\n",
       "    </tr>\n",
       "  </tbody>\n",
       "</table>\n",
       "<p>3 rows × 149 columns</p>\n",
       "</div>"
      ],
      "text/plain": [
       "    meet_date     GB_date   pt            idMM  \\\n",
       "0  1990-02-07  1990-01-31  pt2      Int.DmdEME   \n",
       "1  1990-03-27  1990-03-21  pt2        Fin.Govt   \n",
       "2  1990-05-15  1990-05-09  pt1  For.Ec.Summary   \n",
       "\n",
       "                                     header  \\\n",
       "0   Developments in East European Economies   \n",
       "1                      Municipal Securities   \n",
       "2             Near-term Economic Conditions   \n",
       "\n",
       "                                                text     gb_date   fomc_date  \\\n",
       "0           Poland   and Yugoslavia      have  im...  1990-01-31  1990-02-07   \n",
       "1          Gross  issuance    of long-term munici...  1990-03-21  1990-03-27   \n",
       "2          Data   received   since  the  March   ...  1990-05-09  1990-05-15   \n",
       "\n",
       "           yq  unemp0  ...  L1cpix_fe3  L1cpix_fe4  L1rgdp_fe1  L1rgdp_fe2  \\\n",
       "0  1990-01-01     5.5  ...         1.4        -0.3        -0.1         0.1   \n",
       "1  1990-01-01     5.3  ...        -0.4         2.2        -1.3        -0.2   \n",
       "2  1990-04-01     5.4  ...        -0.5         2.1        -1.3        -0.3   \n",
       "\n",
       "   L1rgdp_fe3  L1rgdp_fe4  L1pgdp_fe1  L1pgdp_fe2  L1pgdp_fe3  L1pgdp_fe4  \n",
       "0        -0.2        -4.7         1.7         0.1         0.2         0.1  \n",
       "1        -4.8        -4.5         0.7         0.0         0.3        -0.1  \n",
       "2        -4.8        -4.1         0.9         0.1        -0.1         0.1  \n",
       "\n",
       "[3 rows x 149 columns]"
      ]
     },
     "execution_count": 78,
     "metadata": {},
     "output_type": "execute_result"
    }
   ],
   "source": [
    "df_gb = pd.read_csv(raw_data_path + \"gb_dtm+data/REGALLTEXT_gb_dataset.csv\", header = 0, index_col = 0)\n",
    "print(df_gb.shape)\n",
    "df_gb.head(3)"
   ]
  },
  {
   "cell_type": "code",
   "execution_count": 79,
   "metadata": {},
   "outputs": [],
   "source": [
    "# define variables\n",
    "d_u_train = df_gb.unemp4 - df_gb.unemp0\n",
    "L1d_u_train = df_gb.L1unemp4 - df_gb.L1unemp0\n",
    "\n",
    "d_cpi_train = df_gb.cpi4 - df_gb.cpi0\n",
    "L1d_cpi_train = df_gb.L1cpi4 - df_gb.L1cpi0\n",
    "\n",
    "d_rgdp_train = df_gb.rgdp4 - df_gb.rgdp0\n",
    "L1d_rgdp_train = df_gb.L1rgdp4 - df_gb.L1rgdp0"
   ]
  },
  {
   "cell_type": "code",
   "execution_count": 80,
   "metadata": {},
   "outputs": [],
   "source": [
    "# define variables\n",
    "d_u_dev = df_speeches.unemp4 - df_speeches.unemp0\n",
    "L1d_u_dev = df_speeches.L1unemp4 - df_speeches.L1unemp0\n",
    "\n",
    "d_cpi_dev = df_speeches.cpi4 - df_speeches.cpi0\n",
    "L1d_cpi_dev = df_speeches.L1cpi4 - df_speeches.L1cpi0\n",
    "\n",
    "d_rgdp_dev = df_speeches.rgdp4 - df_speeches.rgdp0\n",
    "L1d_rgdp_dev = df_speeches.L1rgdp4 - df_speeches.L1rgdp0"
   ]
  },
  {
   "cell_type": "code",
   "execution_count": 81,
   "metadata": {},
   "outputs": [
    {
     "name": "stdout",
     "output_type": "stream",
     "text": [
      "(145,) (145, 3) (2928,) (2928, 3)\n",
      "(145,) (145, 3) (2928,) (2928, 3)\n",
      "(145,) (145, 3) (2928,) (2928, 3)\n"
     ]
    }
   ],
   "source": [
    "names = [\"u\",\"cpi\",\"gdp\"]\n",
    "controls = [\"L1unemp0\",\"L1cpi0\",\"L1rgdp0\"]\n",
    "train_covars = df_gb[controls]\n",
    "dev_covars = df_speeches[controls]\n",
    "train_vars = [d_u_train, d_cpi_train, d_rgdp_train]\n",
    "dev_vars = [d_u_dev, d_cpi_dev, d_rgdp_dev]\n",
    "\n",
    "# de-mean data to have fair comparison againt pure OLS\n",
    "train_covars = train_covars - np.mean(train_covars)\n",
    "dev_covars = dev_covars - np.mean(dev_covars)\n",
    "\n",
    "for idx in range(len(names)):\n",
    "    train_y = train_vars[idx]\n",
    "    dev_y = dev_vars[idx]\n",
    "    \n",
    "    # de-mean y\n",
    "    train_y = train_y - np.mean(train_y)\n",
    "    dev_y = dev_y - np.mean(dev_y)\n",
    "    \n",
    "    train_y.index = train_ids\n",
    "    train_y.to_csv(output_dir + \"train.target_{}.csv\".format(names[idx]))\n",
    "    \n",
    "    dev_y.index = dev_ids\n",
    "    dev_y.to_csv(output_dir + \"dev.target_{}.csv\".format(names[idx]))\n",
    "    \n",
    "    train_covars.index = train_ids\n",
    "    train_covars.to_csv(output_dir + \"train.covars_{}.csv\".format(names[idx]))\n",
    "    \n",
    "    dev_covars.index = dev_ids\n",
    "    dev_covars.to_csv(output_dir + \"dev.covars_{}.csv\".format(names[idx]))\n",
    "    \n",
    "    print(train_y.shape, train_covars.shape, dev_y.shape, dev_covars.shape)"
   ]
  },
  {
   "cell_type": "markdown",
   "metadata": {},
   "source": [
    "# joint targets"
   ]
  },
  {
   "cell_type": "code",
   "execution_count": 97,
   "metadata": {},
   "outputs": [
    {
     "data": {
      "text/html": [
       "<div>\n",
       "<style scoped>\n",
       "    .dataframe tbody tr th:only-of-type {\n",
       "        vertical-align: middle;\n",
       "    }\n",
       "\n",
       "    .dataframe tbody tr th {\n",
       "        vertical-align: top;\n",
       "    }\n",
       "\n",
       "    .dataframe thead th {\n",
       "        text-align: right;\n",
       "    }\n",
       "</style>\n",
       "<table border=\"1\" class=\"dataframe\">\n",
       "  <thead>\n",
       "    <tr style=\"text-align: right;\">\n",
       "      <th></th>\n",
       "      <th>u</th>\n",
       "      <th>cpi</th>\n",
       "      <th>gdp</th>\n",
       "    </tr>\n",
       "  </thead>\n",
       "  <tbody>\n",
       "    <tr>\n",
       "      <th>train_0</th>\n",
       "      <td>0.5</td>\n",
       "      <td>-1.0</td>\n",
       "      <td>1.4</td>\n",
       "    </tr>\n",
       "    <tr>\n",
       "      <th>train_1</th>\n",
       "      <td>0.5</td>\n",
       "      <td>-3.0</td>\n",
       "      <td>-0.3</td>\n",
       "    </tr>\n",
       "    <tr>\n",
       "      <th>train_2</th>\n",
       "      <td>0.5</td>\n",
       "      <td>1.1</td>\n",
       "      <td>-1.1</td>\n",
       "    </tr>\n",
       "    <tr>\n",
       "      <th>train_3</th>\n",
       "      <td>0.5</td>\n",
       "      <td>1.2</td>\n",
       "      <td>0.8</td>\n",
       "    </tr>\n",
       "    <tr>\n",
       "      <th>train_4</th>\n",
       "      <td>0.5</td>\n",
       "      <td>-1.7</td>\n",
       "      <td>1.1</td>\n",
       "    </tr>\n",
       "    <tr>\n",
       "      <th>...</th>\n",
       "      <td>...</td>\n",
       "      <td>...</td>\n",
       "      <td>...</td>\n",
       "    </tr>\n",
       "    <tr>\n",
       "      <th>train_140</th>\n",
       "      <td>-0.6</td>\n",
       "      <td>-1.2</td>\n",
       "      <td>1.1</td>\n",
       "    </tr>\n",
       "    <tr>\n",
       "      <th>train_141</th>\n",
       "      <td>-0.5</td>\n",
       "      <td>-1.8</td>\n",
       "      <td>0.0</td>\n",
       "    </tr>\n",
       "    <tr>\n",
       "      <th>train_142</th>\n",
       "      <td>-1.0</td>\n",
       "      <td>-1.0</td>\n",
       "      <td>1.5</td>\n",
       "    </tr>\n",
       "    <tr>\n",
       "      <th>train_143</th>\n",
       "      <td>-0.7</td>\n",
       "      <td>-0.5</td>\n",
       "      <td>1.8</td>\n",
       "    </tr>\n",
       "    <tr>\n",
       "      <th>train_144</th>\n",
       "      <td>-0.8</td>\n",
       "      <td>0.7</td>\n",
       "      <td>0.8</td>\n",
       "    </tr>\n",
       "  </tbody>\n",
       "</table>\n",
       "<p>145 rows × 3 columns</p>\n",
       "</div>"
      ],
      "text/plain": [
       "             u  cpi  gdp\n",
       "train_0    0.5 -1.0  1.4\n",
       "train_1    0.5 -3.0 -0.3\n",
       "train_2    0.5  1.1 -1.1\n",
       "train_3    0.5  1.2  0.8\n",
       "train_4    0.5 -1.7  1.1\n",
       "...        ...  ...  ...\n",
       "train_140 -0.6 -1.2  1.1\n",
       "train_141 -0.5 -1.8  0.0\n",
       "train_142 -1.0 -1.0  1.5\n",
       "train_143 -0.7 -0.5  1.8\n",
       "train_144 -0.8  0.7  0.8\n",
       "\n",
       "[145 rows x 3 columns]"
      ]
     },
     "execution_count": 97,
     "metadata": {},
     "output_type": "execute_result"
    }
   ],
   "source": [
    "y_joint = pd.concat([d_u, d_cpi, d_rgdp],axis = 1)\n",
    "y_joint.columns = names\n",
    "y_joint.index = train_ids\n",
    "y_joint"
   ]
  },
  {
   "cell_type": "code",
   "execution_count": 100,
   "metadata": {},
   "outputs": [],
   "source": [
    "y_joint.to_csv(output_dir + \"train.target_all.csv\")"
   ]
  },
  {
   "cell_type": "code",
   "execution_count": 119,
   "metadata": {},
   "outputs": [],
   "source": [
    "theta = np.load(\"/nfs/home/maxa/results/booking/scholar/k_20_unweighted_topics/k20_ep200_run_26/theta.train.npz\")"
   ]
  },
  {
   "cell_type": "code",
   "execution_count": 120,
   "metadata": {},
   "outputs": [],
   "source": [
    "theta = theta[\"theta\"]"
   ]
  },
  {
   "cell_type": "code",
   "execution_count": 121,
   "metadata": {},
   "outputs": [],
   "source": [
    "theta = pd.DataFrame(theta)"
   ]
  },
  {
   "cell_type": "code",
   "execution_count": 122,
   "metadata": {},
   "outputs": [
    {
     "data": {
      "text/plain": [
       "<matplotlib.axes._subplots.AxesSubplot at 0x7f3a252e6dd8>"
      ]
     },
     "execution_count": 122,
     "metadata": {},
     "output_type": "execute_result"
    },
    {
     "data": {
      "image/png": "[encoded data removed]",
      "text/plain": [
       "<Figure size 432x288 with 1 Axes>"
      ]
     },
     "metadata": {
      "needs_background": "light"
     },
     "output_type": "display_data"
    }
   ],
   "source": [
    "theta.iloc[20,:].plot()"
   ]
  },
  {
   "cell_type": "code",
   "execution_count": null,
   "metadata": {},
   "outputs": [],
   "source": []
  }
 ],
 "metadata": {
  "kernelspec": {
   "display_name": "Python 3",
   "language": "python",
   "name": "python3"
  },
  "language_info": {
   "codemirror_mode": {
    "name": "ipython",
    "version": 3
   },
   "file_extension": ".py",
   "mimetype": "text/x-python",
   "name": "python",
   "nbconvert_exporter": "python",
   "pygments_lexer": "ipython3",
   "version": "3.6.5"
  }
 },
 "nbformat": 4,
 "nbformat_minor": 5
}
