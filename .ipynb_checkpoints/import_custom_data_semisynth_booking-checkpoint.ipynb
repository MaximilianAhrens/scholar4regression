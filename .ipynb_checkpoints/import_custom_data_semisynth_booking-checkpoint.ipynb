{
 "cells": [
  {
   "cell_type": "markdown",
   "metadata": {},
   "source": [
    "# Import and format custom datasets for SCHOLAR"
   ]
  },
  {
   "cell_type": "code",
   "execution_count": null,
   "metadata": {},
   "outputs": [],
   "source": [
    "import os, sys, scipy, json\n",
    "from scipy import sparse\n",
    "import codecs\n",
    "import numpy as np\n",
    "import pandas as pd\n",
    "import file_handling as fh"
   ]
  },
  {
   "cell_type": "markdown",
   "metadata": {},
   "source": [
    "# Semi-synthetic data"
   ]
  },
  {
   "cell_type": "markdown",
   "metadata": {},
   "source": [
    "## load data and save in SCHOLAR format"
   ]
  },
  {
   "cell_type": "code",
   "execution_count": null,
   "metadata": {},
   "outputs": [],
   "source": [
    "if sys.platform == \"darwin\":\n",
    "    #raw_data_path = \"/Users/maximilianahrens/OneDrive - Nexus365/00_datasets/booking/booking_btr/\"\n",
    "    output_dir = raw_data_path + \"scholar/\"\n",
    "else:\n",
    "    raw_data_path = \"/nfs/home/maxa/data/semisynth_btr/\"\n",
    "    output_dir = raw_data_path + \"scholar/\"\n",
    "print(raw_data_path, \"\\n\",output_dir)"
   ]
  },
  {
   "cell_type": "markdown",
   "metadata": {},
   "source": [
    "## vocab"
   ]
  },
  {
   "cell_type": "code",
   "execution_count": null,
   "metadata": {},
   "outputs": [],
   "source": [
    "vocab_df = pd.read_csv(raw_data_path +'preprocessed/booking_synth_vocab.csv', header = 0)"
   ]
  },
  {
   "cell_type": "code",
   "execution_count": null,
   "metadata": {},
   "outputs": [],
   "source": [
    "vocab_df"
   ]
  },
  {
   "cell_type": "code",
   "execution_count": 93,
   "metadata": {},
   "outputs": [
    {
     "data": {
      "text/plain": [
       "16337"
      ]
     },
     "execution_count": 93,
     "metadata": {},
     "output_type": "execute_result"
    }
   ],
   "source": [
    "vocab = list(vocab_df[\"x1\"])\n",
    "len(vocab)"
   ]
  },
  {
   "cell_type": "code",
   "execution_count": 94,
   "metadata": {},
   "outputs": [],
   "source": [
    "fh.write_to_json(vocab, output_dir + \"train.vocab.json\", indent=2, sort_keys=True)"
   ]
  },
  {
   "cell_type": "markdown",
   "metadata": {},
   "source": [
    "## dtm"
   ]
  },
  {
   "cell_type": "code",
   "execution_count": 16,
   "metadata": {},
   "outputs": [],
   "source": [
    "x_bow_raw = pd.read_csv(raw_data_path + \"preprocessed/booking_synth_dtm.csv\", header = 0).values"
   ]
  },
  {
   "cell_type": "code",
   "execution_count": 19,
   "metadata": {},
   "outputs": [],
   "source": [
    "x_bow = np.matrix(x_bow_raw)"
   ]
  },
  {
   "cell_type": "code",
   "execution_count": 21,
   "metadata": {},
   "outputs": [
    {
     "data": {
      "text/plain": [
       "((40000, 16337), (10000, 16337))"
      ]
     },
     "execution_count": 21,
     "metadata": {},
     "output_type": "execute_result"
    }
   ],
   "source": [
    "x_bow.shape"
   ]
  },
  {
   "cell_type": "code",
   "execution_count": 62,
   "metadata": {},
   "outputs": [],
   "source": [
    "# insample\n",
    "sparse_Xtr = sparse.coo_matrix(x_bow).tocsr()\n",
    "fh.save_sparse(sparse_Xtr, os.path.join(raw_data_path, \"scholar\", \"train.npz\"))"
   ]
  },
  {
   "cell_type": "markdown",
   "metadata": {},
   "source": [
    "## doc IDs"
   ]
  },
  {
   "cell_type": "code",
   "execution_count": 67,
   "metadata": {},
   "outputs": [],
   "source": [
    "# insample\n",
    "train_ids = [\"train_\" + str(x) for x in list(range(x_bow.shape[0]))]"
   ]
  },
  {
   "cell_type": "code",
   "execution_count": 80,
   "metadata": {},
   "outputs": [],
   "source": [
    "fh.write_to_json(train_ids, output_dir + \"train.ids.json\", indent=2, sort_keys=True)"
   ]
  },
  {
   "cell_type": "code",
   "execution_count": 68,
   "metadata": {},
   "outputs": [],
   "source": [
    "semisynth_data = pd.read_csv(raw_data_path + \"booking_semisynth_sample.csv\",header = 0)"
   ]
  },
  {
   "cell_type": "code",
   "execution_count": 69,
   "metadata": {},
   "outputs": [
    {
     "data": {
      "text/plain": [
       "(50000, 18)"
      ]
     },
     "execution_count": 69,
     "metadata": {},
     "output_type": "execute_result"
    }
   ],
   "source": [
    "semisynth_data.shape"
   ]
  },
  {
   "cell_type": "code",
   "execution_count": 70,
   "metadata": {},
   "outputs": [
    {
     "data": {
      "text/html": [
       "<div>\n",
       "<style scoped>\n",
       "    .dataframe tbody tr th:only-of-type {\n",
       "        vertical-align: middle;\n",
       "    }\n",
       "\n",
       "    .dataframe tbody tr th {\n",
       "        vertical-align: top;\n",
       "    }\n",
       "\n",
       "    .dataframe thead th {\n",
       "        text-align: right;\n",
       "    }\n",
       "</style>\n",
       "<table border=\"1\" class=\"dataframe\">\n",
       "  <thead>\n",
       "    <tr style=\"text-align: right;\">\n",
       "      <th></th>\n",
       "      <th>Average_Score</th>\n",
       "      <th>Reviewer_Nationality</th>\n",
       "      <th>Review_Total_Negative_Word_Counts</th>\n",
       "      <th>Total_Number_of_Reviews</th>\n",
       "      <th>Review_Total_Positive_Word_Counts</th>\n",
       "      <th>Total_Number_of_Reviews_Reviewer_Has_Given</th>\n",
       "      <th>Reviewer_Score</th>\n",
       "      <th>Leisure</th>\n",
       "      <th>Couple</th>\n",
       "      <th>text</th>\n",
       "      <th>text_clean</th>\n",
       "      <th>doc_idx</th>\n",
       "      <th>sentiment</th>\n",
       "      <th>pos_prop</th>\n",
       "      <th>av_score</th>\n",
       "      <th>synth_y</th>\n",
       "      <th>bar_rest</th>\n",
       "      <th>conf</th>\n",
       "    </tr>\n",
       "  </thead>\n",
       "  <tbody>\n",
       "    <tr>\n",
       "      <th>0</th>\n",
       "      <td>8.1</td>\n",
       "      <td>Hungary</td>\n",
       "      <td>17</td>\n",
       "      <td>6373</td>\n",
       "      <td>12</td>\n",
       "      <td>6</td>\n",
       "      <td>10.0</td>\n",
       "      <td>0</td>\n",
       "      <td>0</td>\n",
       "      <td>Everything was great Cozy clean and just perf...</td>\n",
       "      <td>everyth great cozi clean just perfect breakfas...</td>\n",
       "      <td>1</td>\n",
       "      <td>1.062683</td>\n",
       "      <td>0.413793</td>\n",
       "      <td>-0.501244</td>\n",
       "      <td>3.547939</td>\n",
       "      <td>0</td>\n",
       "      <td>0</td>\n",
       "    </tr>\n",
       "    <tr>\n",
       "      <th>1</th>\n",
       "      <td>7.5</td>\n",
       "      <td>United Kingdom</td>\n",
       "      <td>20</td>\n",
       "      <td>2197</td>\n",
       "      <td>4</td>\n",
       "      <td>21</td>\n",
       "      <td>5.4</td>\n",
       "      <td>0</td>\n",
       "      <td>1</td>\n",
       "      <td>Good location .  We travel through to Kensing...</td>\n",
       "      <td>good locat travel kensington everi week great ...</td>\n",
       "      <td>2</td>\n",
       "      <td>0.645357</td>\n",
       "      <td>0.166667</td>\n",
       "      <td>-1.574335</td>\n",
       "      <td>0.105846</td>\n",
       "      <td>0</td>\n",
       "      <td>0</td>\n",
       "    </tr>\n",
       "    <tr>\n",
       "      <th>2</th>\n",
       "      <td>7.5</td>\n",
       "      <td>United Kingdom</td>\n",
       "      <td>26</td>\n",
       "      <td>2176</td>\n",
       "      <td>3</td>\n",
       "      <td>7</td>\n",
       "      <td>4.2</td>\n",
       "      <td>0</td>\n",
       "      <td>1</td>\n",
       "      <td>Not Much.  Room was dirty carpet very tired w...</td>\n",
       "      <td>much room dirti carpet tire wifi stop work who...</td>\n",
       "      <td>3</td>\n",
       "      <td>-1.209426</td>\n",
       "      <td>0.103448</td>\n",
       "      <td>-1.574335</td>\n",
       "      <td>-0.681302</td>\n",
       "      <td>0</td>\n",
       "      <td>1</td>\n",
       "    </tr>\n",
       "  </tbody>\n",
       "</table>\n",
       "</div>"
      ],
      "text/plain": [
       "   Average_Score Reviewer_Nationality  Review_Total_Negative_Word_Counts  \\\n",
       "0            8.1             Hungary                                  17   \n",
       "1            7.5      United Kingdom                                  20   \n",
       "2            7.5      United Kingdom                                  26   \n",
       "\n",
       "   Total_Number_of_Reviews  Review_Total_Positive_Word_Counts  \\\n",
       "0                     6373                                 12   \n",
       "1                     2197                                  4   \n",
       "2                     2176                                  3   \n",
       "\n",
       "   Total_Number_of_Reviews_Reviewer_Has_Given  Reviewer_Score  Leisure  \\\n",
       "0                                           6            10.0        0   \n",
       "1                                          21             5.4        0   \n",
       "2                                           7             4.2        0   \n",
       "\n",
       "   Couple                                               text  \\\n",
       "0       0   Everything was great Cozy clean and just perf...   \n",
       "1       1   Good location .  We travel through to Kensing...   \n",
       "2       1   Not Much.  Room was dirty carpet very tired w...   \n",
       "\n",
       "                                          text_clean  doc_idx  sentiment  \\\n",
       "0  everyth great cozi clean just perfect breakfas...        1   1.062683   \n",
       "1  good locat travel kensington everi week great ...        2   0.645357   \n",
       "2  much room dirti carpet tire wifi stop work who...        3  -1.209426   \n",
       "\n",
       "   pos_prop  av_score   synth_y  bar_rest  conf  \n",
       "0  0.413793 -0.501244  3.547939         0     0  \n",
       "1  0.166667 -1.574335  0.105846         0     0  \n",
       "2  0.103448 -1.574335 -0.681302         0     1  "
      ]
     },
     "execution_count": 70,
     "metadata": {},
     "output_type": "execute_result"
    }
   ],
   "source": [
    "semisynth_data.head(3)"
   ]
  },
  {
   "cell_type": "markdown",
   "metadata": {},
   "source": [
    "## labels"
   ]
  },
  {
   "cell_type": "code",
   "execution_count": 73,
   "metadata": {},
   "outputs": [],
   "source": [
    "train_y = semisynth_data.Reviewer_Score"
   ]
  },
  {
   "cell_type": "code",
   "execution_count": 74,
   "metadata": {},
   "outputs": [],
   "source": [
    "train_y.index = train_ids\n",
    "train_y.to_csv(output_dir + \"train.target.csv\")"
   ]
  },
  {
   "cell_type": "code",
   "execution_count": 75,
   "metadata": {},
   "outputs": [
    {
     "data": {
      "text/plain": [
       "train_0        10.0\n",
       "train_1         5.4\n",
       "train_2         4.2\n",
       "train_3         6.3\n",
       "train_4         6.3\n",
       "               ... \n",
       "train_49995     9.2\n",
       "train_49996     9.6\n",
       "train_49997     7.9\n",
       "train_49998     7.9\n",
       "train_49999     9.6\n",
       "Name: Reviewer_Score, Length: 50000, dtype: float64"
      ]
     },
     "execution_count": 75,
     "metadata": {},
     "output_type": "execute_result"
    }
   ],
   "source": [
    "train_y"
   ]
  },
  {
   "cell_type": "markdown",
   "metadata": {},
   "source": [
    "## covariates"
   ]
  },
  {
   "cell_type": "code",
   "execution_count": 76,
   "metadata": {},
   "outputs": [],
   "source": [
    "train_covars = semisynth_data[[\"Leisure\",\"Average_Score\"]].astype(\"float32\") # choose which features to include"
   ]
  },
  {
   "cell_type": "code",
   "execution_count": 77,
   "metadata": {},
   "outputs": [],
   "source": [
    "train_covars.index = train_ids"
   ]
  },
  {
   "cell_type": "code",
   "execution_count": 78,
   "metadata": {},
   "outputs": [],
   "source": [
    "train_covars.to_csv(output_dir + \"train.covars.csv\")"
   ]
  },
  {
   "cell_type": "code",
   "execution_count": 79,
   "metadata": {},
   "outputs": [
    {
     "data": {
      "text/plain": [
       "(50000, 2)"
      ]
     },
     "execution_count": 79,
     "metadata": {},
     "output_type": "execute_result"
    }
   ],
   "source": [
    "train_covars.shape"
   ]
  }
 ],
 "metadata": {
  "kernelspec": {
   "display_name": "Python 3",
   "language": "python",
   "name": "python3"
  },
  "language_info": {
   "codemirror_mode": {
    "name": "ipython",
    "version": 3
   },
   "file_extension": ".py",
   "mimetype": "text/x-python",
   "name": "python",
   "nbconvert_exporter": "python",
   "pygments_lexer": "ipython3",
   "version": "3.6.5"
  }
 },
 "nbformat": 4,
 "nbformat_minor": 5
}
