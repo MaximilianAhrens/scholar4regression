{
 "cells": [
  {
   "cell_type": "markdown",
   "metadata": {},
   "source": [
    "# Evaluate SCHOLAR results"
   ]
  },
  {
   "cell_type": "code",
   "execution_count": 141,
   "metadata": {},
   "outputs": [],
   "source": [
    "# synth\n",
    "dataset = \"synth\""
   ]
  },
  {
   "cell_type": "code",
   "execution_count": 258,
   "metadata": {},
   "outputs": [],
   "source": [
    "import os, sys, scipy, json\n",
    "from scipy import sparse\n",
    "import codecs\n",
    "import numpy as np\n",
    "import pandas as pd\n",
    "import file_handling as fh\n",
    "from sklearn.model_selection import train_test_split\n",
    "import re\n",
    "import matplotlib.pyplot as plt\n",
    "from tqdm import tqdm"
   ]
  },
  {
   "cell_type": "code",
   "execution_count": 143,
   "metadata": {},
   "outputs": [
    {
     "name": "stdout",
     "output_type": "stream",
     "text": [
      "/nfs/home/maxa/results/synth/scholar_split/train_val\n"
     ]
    }
   ],
   "source": [
    "if sys.platform == \"darwin\":\n",
    "    pass\n",
    "else:\n",
    "    if dataset == \"synth\":\n",
    "         input_dir = \"/nfs/home/maxa/results/\"+dataset+'/scholar_split/train_val'       \n",
    "print(input_dir)\n",
    "#try:\n",
    "#    os.mkdir(output_dir)\n",
    "#except:\n",
    "#pass"
   ]
  },
  {
   "cell_type": "code",
   "execution_count": 204,
   "metadata": {},
   "outputs": [
    {
     "name": "stdout",
     "output_type": "stream",
     "text": [
      "532\n"
     ]
    }
   ],
   "source": [
    "print(len(os.listdir(input_dir)))"
   ]
  },
  {
   "cell_type": "code",
   "execution_count": 205,
   "metadata": {},
   "outputs": [
    {
     "data": {
      "text/plain": [
       "'/nfs/home/maxa/results/synth/scholar_split/train_val'"
      ]
     },
     "execution_count": 205,
     "metadata": {},
     "output_type": "execute_result"
    }
   ],
   "source": [
    "input_dir"
   ]
  },
  {
   "cell_type": "code",
   "execution_count": 277,
   "metadata": {},
   "outputs": [
    {
     "name": "stderr",
     "output_type": "stream",
     "text": [
      "100%|██████████| 531/531 [00:48<00:00, 10.97it/s]\n"
     ]
    }
   ],
   "source": [
    "df_weights = pd.DataFrame(columns=[\"z1\",\"z2\",\"z3\",\"x1\"])\n",
    "pR = pd.DataFrame()\n",
    "mse = pd.DataFrame()\n",
    "pRs = []\n",
    "mses = []\n",
    "runs_dir = input_dir\n",
    "for run in tqdm(os.listdir(runs_dir)):\n",
    "    # load reg weights\n",
    "    try:\n",
    "        temp = pd.read_csv(os.path.join(runs_dir,run,'best_val_regression_weights.txt'), header = None)\n",
    "        weights = []\n",
    "        for val in temp[0]:\n",
    "            weights.append(float(re.sub('[^A-Za-z0-9\\.-]+', '', val)))  \n",
    "    except:\n",
    "        try:\n",
    "            temp = pd.read_csv(os.path.join(runs_dir,run,'best_val_regression_weights.csv'), header = 0, index_col = 0)\n",
    "            weights = list(temp.W)\n",
    "        except:\n",
    "            continue\n",
    "    # load topics and order them\n",
    "    w4 = weights[3]\n",
    "    weights = weights[:3]\n",
    "    try:\n",
    "        topics = pd.read_csv(os.path.join(runs_dir,run,\"topics_sparsity_weighted.txt\"), header = None)\n",
    "    except:\n",
    "        try:\n",
    "            topics = pd.read_csv(os.path.join(runs_dir,run,\"topics.txt\"), header = None)\n",
    "        except:\n",
    "            continue\n",
    "    for t,w in zip(topics[0],weights):\n",
    "        if (t[0] == str(8) or t[0] == str(9)) and (t[2] == str(8) or t[2] == str(9)):\n",
    "            t3 = t\n",
    "            w3 = w\n",
    "        elif len(t) > 5:\n",
    "            t1 = t\n",
    "            w1 = w\n",
    "        else:\n",
    "            t2 = t\n",
    "            w2 = w\n",
    "    weights = pd.Series([w1,w2,w3,w4])\n",
    "    weights.index = [\"z1\",\"z2\",\"z3\",\"x1\"]\n",
    "\n",
    "    df_weights = df_weights.append(weights, ignore_index = True)\n",
    "    \n",
    "    pRs.append(pd.read_csv(os.path.join(runs_dir,run,'train_pR2.txt'),\n",
    "                           header = None).values[0][0])\n",
    "    mses.append(pd.read_csv(os.path.join(runs_dir,run,'train_mse.txt'),\n",
    "                           header = None).values[0][0])   \n",
    "pR = pd.DataFrame(pRs, columns = [\"pR\"])\n",
    "mse = pd.DataFrame(mses, columns = [\"mse\"])\n"
   ]
  },
  {
   "cell_type": "code",
   "execution_count": 278,
   "metadata": {},
   "outputs": [
    {
     "name": "stdout",
     "output_type": "stream",
     "text": [
      "overall bootstraps evaluated: 530\n"
     ]
    }
   ],
   "source": [
    "print(\"overall bootstraps evaluated:\",mse.shape[0])"
   ]
  },
  {
   "cell_type": "code",
   "execution_count": 297,
   "metadata": {},
   "outputs": [],
   "source": [
    "df_weights.to_csv(\"/nfs/home/maxa/results/synth/scholar_split/scholar_regweight_bootstrap.csv\")\n",
    "mse.to_csv(\"/nfs/home/maxa/results/synth/scholar_split/scholar_mses_bootstrap.csv\")\n",
    "pR.to_csv(\"/nfs/home/maxa/results/synth/scholar_split/scholar_pR2s_bootstrap.csv\")"
   ]
  },
  {
   "cell_type": "code",
   "execution_count": 279,
   "metadata": {},
   "outputs": [
    {
     "data": {
      "text/plain": [
       "z1   -0.169277\n",
       "z2   -0.327296\n",
       "z3   -0.314188\n",
       "x1   -1.406929\n",
       "Name: 0.025, dtype: float64"
      ]
     },
     "execution_count": 279,
     "metadata": {},
     "output_type": "execute_result"
    }
   ],
   "source": [
    "df_weights.quantile(0.025)"
   ]
  },
  {
   "cell_type": "code",
   "execution_count": 280,
   "metadata": {},
   "outputs": [
    {
     "data": {
      "text/plain": [
       "z1    0.066532\n",
       "z2   -0.145699\n",
       "z3   -0.138719\n",
       "x1   -1.362737\n",
       "dtype: float64"
      ]
     },
     "execution_count": 280,
     "metadata": {},
     "output_type": "execute_result"
    }
   ],
   "source": [
    "df_weights.median()"
   ]
  },
  {
   "cell_type": "code",
   "execution_count": 281,
   "metadata": {},
   "outputs": [
    {
     "data": {
      "text/plain": [
       "z1    0.085460\n",
       "z2   -0.031850\n",
       "z3   -0.040431\n",
       "x1   -0.610997\n",
       "Name: 0.975, dtype: float64"
      ]
     },
     "execution_count": 281,
     "metadata": {},
     "output_type": "execute_result"
    }
   ],
   "source": [
    "df_weights.quantile(0.975)"
   ]
  },
  {
   "cell_type": "code",
   "execution_count": 288,
   "metadata": {},
   "outputs": [
    {
     "data": {
      "image/png": "[encoded data removed]",
      "text/plain": [
       "<Figure size 432x288 with 1 Axes>"
      ]
     },
     "metadata": {
      "needs_background": "light"
     },
     "output_type": "display_data"
    },
    {
     "data": {
      "image/png": "[encoded data removed]",
      "text/plain": [
       "<Figure size 432x288 with 1 Axes>"
      ]
     },
     "metadata": {
      "needs_background": "light"
     },
     "output_type": "display_data"
    },
    {
     "data": {
      "image/png": "[encoded data removed]",
      "text/plain": [
       "<Figure size 432x288 with 1 Axes>"
      ]
     },
     "metadata": {
      "needs_background": "light"
     },
     "output_type": "display_data"
    },
    {
     "data": {
      "image/png": "[encoded data removed]",
      "text/plain": [
       "<Figure size 432x288 with 1 Axes>"
      ]
     },
     "metadata": {
      "needs_background": "light"
     },
     "output_type": "display_data"
    }
   ],
   "source": [
    "for col in df_weights.columns:\n",
    "    plt.figure()\n",
    "    plt.hist(df_weights[col])"
   ]
  },
  {
   "cell_type": "code",
   "execution_count": 301,
   "metadata": {},
   "outputs": [
    {
     "data": {
      "text/plain": [
       "(mse    0.055148\n",
       " dtype: float64,\n",
       " pR    0.284582\n",
       " dtype: float64)"
      ]
     },
     "execution_count": 301,
     "metadata": {},
     "output_type": "execute_result"
    }
   ],
   "source": [
    "mse.mean(), pR.mean()"
   ]
  },
  {
   "cell_type": "code",
   "execution_count": 201,
   "metadata": {},
   "outputs": [
    {
     "data": {
      "text/plain": [
       "3.6331835"
      ]
     },
     "execution_count": 201,
     "metadata": {},
     "output_type": "execute_result"
    }
   ],
   "source": [
    "beta[0].sum()"
   ]
  },
  {
   "cell_type": "code",
   "execution_count": 202,
   "metadata": {},
   "outputs": [
    {
     "data": {
      "text/plain": [
       "-2.6563582"
      ]
     },
     "execution_count": 202,
     "metadata": {},
     "output_type": "execute_result"
    }
   ],
   "source": [
    "beta[1].sum()"
   ]
  },
  {
   "cell_type": "code",
   "execution_count": 203,
   "metadata": {},
   "outputs": [
    {
     "data": {
      "text/plain": [
       "0.22251487"
      ]
     },
     "execution_count": 203,
     "metadata": {},
     "output_type": "execute_result"
    }
   ],
   "source": [
    "beta[2].sum()"
   ]
  },
  {
   "cell_type": "code",
   "execution_count": 191,
   "metadata": {},
   "outputs": [
    {
     "data": {
      "image/png": "[encoded data removed]",
      "text/plain": [
       "<Figure size 432x288 with 1 Axes>"
      ]
     },
     "metadata": {
      "needs_background": "light"
     },
     "output_type": "display_data"
    },
    {
     "data": {
      "image/png": "[encoded data removed]",
      "text/plain": [
       "<Figure size 432x288 with 1 Axes>"
      ]
     },
     "metadata": {
      "needs_background": "light"
     },
     "output_type": "display_data"
    },
    {
     "data": {
      "image/png": "[encoded data removed]",
      "text/plain": [
       "<Figure size 432x288 with 1 Axes>"
      ]
     },
     "metadata": {
      "needs_background": "light"
     },
     "output_type": "display_data"
    },
    {
     "data": {
      "image/png": "[encoded data removed]",
      "text/plain": [
       "<Figure size 432x288 with 1 Axes>"
      ]
     },
     "metadata": {
      "needs_background": "light"
     },
     "output_type": "display_data"
    },
    {
     "data": {
      "image/png": "[encoded data removed]",
      "text/plain": [
       "<Figure size 432x288 with 1 Axes>"
      ]
     },
     "metadata": {
      "needs_background": "light"
     },
     "output_type": "display_data"
    },
    {
     "data": {
      "image/png": "[encoded data removed]",
      "text/plain": [
       "<Figure size 432x288 with 1 Axes>"
      ]
     },
     "metadata": {
      "needs_background": "light"
     },
     "output_type": "display_data"
    },
    {
     "data": {
      "image/png": "[encoded data removed]",
      "text/plain": [
       "<Figure size 432x288 with 1 Axes>"
      ]
     },
     "metadata": {
      "needs_background": "light"
     },
     "output_type": "display_data"
    },
    {
     "data": {
      "image/png": "[encoded data removed]",
      "text/plain": [
       "<Figure size 432x288 with 1 Axes>"
      ]
     },
     "metadata": {
      "needs_background": "light"
     },
     "output_type": "display_data"
    },
    {
     "data": {
      "image/png": "[encoded data removed]",
      "text/plain": [
       "<Figure size 432x288 with 1 Axes>"
      ]
     },
     "metadata": {
      "needs_background": "light"
     },
     "output_type": "display_data"
    },
    {
     "data": {
      "image/png": "[encoded data removed]",
      "text/plain": [
       "<Figure size 432x288 with 1 Axes>"
      ]
     },
     "metadata": {
      "needs_background": "light"
     },
     "output_type": "display_data"
    }
   ],
   "source": [
    "examples = [1,10,50,100,150,200,250,300,350,400]\n",
    "\n",
    "for e in examples:\n",
    "    run = 'k3_ep500_nointercept_run_{}'.format(e)\n",
    "    beta = np.load(os.path.join(runs_dir,run,\"beta.npz\"))[\"beta\"]\n",
    "    plt.figure()\n",
    "    plt.imshow(scipy.special.softmax(beta))\n",
    "    #plt.close()"
   ]
  },
  {
   "cell_type": "code",
   "execution_count": 235,
   "metadata": {},
   "outputs": [
    {
     "name": "stdout",
     "output_type": "stream",
     "text": [
      "4 6 5 7 9 8\n",
      "4 5 6\n",
      "8 9 7\n",
      "____\n",
      "4 6 5 7 9 8 >> 1 \n",
      " 4 5 6 >> 2 \n",
      " 8 9 7 >> 3\n",
      "#####\n",
      "8 9 7\n",
      "4 7 6 5 9 8\n",
      "5 4 6\n",
      "____\n",
      "4 7 6 5 9 8 >> 2 \n",
      " 5 4 6 >> 3 \n",
      " 8 9 7 >> 1\n",
      "#####\n",
      "5 4 6\n",
      "4 7 5 6 8 9\n",
      "8 9 7\n",
      "____\n",
      "4 7 5 6 8 9 >> 2 \n",
      " 5 4 6 >> 1 \n",
      " 8 9 7 >> 3\n",
      "#####\n",
      "8 9 7 2 3\n",
      "4 5 6 7 9 8\n",
      "5 4 6\n",
      "____\n",
      "4 5 6 7 9 8 >> 2 \n",
      " 5 4 6 >> 3 \n",
      " 8 9 7 2 3 >> 1\n",
      "#####\n",
      "4 6 5 7 9 8\n",
      "8 9 7\n",
      "5 4 6\n",
      "____\n",
      "4 6 5 7 9 8 >> 1 \n",
      " 5 4 6 >> 3 \n",
      " 8 9 7 >> 2\n",
      "#####\n",
      "4 5 6\n",
      "7 9 8 6 4 5\n",
      "9 8 7\n",
      "____\n",
      "7 9 8 6 4 5 >> 2 \n",
      " 4 5 6 >> 1 \n",
      " 9 8 7 >> 3\n",
      "#####\n",
      "7 4 6 5 9 8\n",
      "5 4 6\n",
      "8 9 7\n",
      "____\n",
      "7 4 6 5 9 8 >> 1 \n",
      " 5 4 6 >> 2 \n",
      " 8 9 7 >> 3\n",
      "#####\n",
      "8 9 7\n",
      "4 6 7 5 9 8\n",
      "4 5 6\n",
      "____\n",
      "4 6 7 5 9 8 >> 2 \n",
      " 4 5 6 >> 3 \n",
      " 8 9 7 >> 1\n",
      "#####\n",
      "8 9 7\n",
      "4 5 7 6 9 8\n",
      "4 5 6\n",
      "____\n",
      "4 5 7 6 9 8 >> 2 \n",
      " 4 5 6 >> 3 \n",
      " 8 9 7 >> 1\n",
      "#####\n",
      "4 7 5 9 6 8\n",
      "4 5 6\n",
      "8 9 7\n",
      "____\n",
      "4 7 5 9 6 8 >> 1 \n",
      " 4 5 6 >> 2 \n",
      " 8 9 7 >> 3\n",
      "#####\n"
     ]
    }
   ],
   "source": [
    "weights = [1,2,3]\n",
    "for e in examples:\n",
    "    run = 'k3_ep500_nointercept_run_{}'.format(e)\n",
    "    try:\n",
    "        topics = pd.read_csv(os.path.join(runs_dir,run,\"topics_sparsity_weighted.txt\"), header = None)\n",
    "    except:\n",
    "        topics = pd.read_csv(os.path.join(runs_dir,run,\"topics.txt\"), header = None)\n",
    "    for t in topics[0]:\n",
    "        print(t)\n",
    "    print(\"____\")\n",
    "    for t,w in zip(topics[0],weights):\n",
    "        if (t[0] == str(8) or t[0] == str(9)) and (t[2] == str(8) or t[2] == str(9)):\n",
    "            t3 = t\n",
    "            w3 = w\n",
    "        elif len(t) > 5:\n",
    "            t1 = t\n",
    "            w1 = w\n",
    "        else:\n",
    "            t2 = t\n",
    "            w2 = w\n",
    "    print(t1,\">>\",w1,\"\\n\",t2,\">>\",w2,\"\\n\",t3,\">>\",w3)\n",
    "    print(\"#####\")"
   ]
  },
  {
   "cell_type": "markdown",
   "metadata": {},
   "source": [
    "# "
   ]
  }
 ],
 "metadata": {
  "kernelspec": {
   "display_name": "Python 3",
   "language": "python",
   "name": "python3"
  },
  "language_info": {
   "codemirror_mode": {
    "name": "ipython",
    "version": 3
   },
   "file_extension": ".py",
   "mimetype": "text/x-python",
   "name": "python",
   "nbconvert_exporter": "python",
   "pygments_lexer": "ipython3",
   "version": "3.6.5"
  }
 },
 "nbformat": 4,
 "nbformat_minor": 5
}
