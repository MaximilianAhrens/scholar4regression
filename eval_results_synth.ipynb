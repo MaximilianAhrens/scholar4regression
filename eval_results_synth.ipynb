{
 "cells": [
  {
   "cell_type": "markdown",
   "metadata": {},
   "source": [
    "# Evaluate SCHOLAR results"
   ]
  },
  {
   "cell_type": "code",
   "execution_count": 1,
   "metadata": {},
   "outputs": [],
   "source": [
    "# synth\n",
    "dataset = \"synth\""
   ]
  },
  {
   "cell_type": "code",
   "execution_count": 127,
   "metadata": {},
   "outputs": [],
   "source": [
    "import os, sys, scipy, json\n",
    "from scipy import sparse\n",
    "import codecs\n",
    "import numpy as np\n",
    "import pandas as pd\n",
    "import file_handling as fh\n",
    "from sklearn.model_selection import train_test_split\n",
    "import re\n",
    "import matplotlib.pyplot as plt"
   ]
  },
  {
   "cell_type": "code",
   "execution_count": 6,
   "metadata": {},
   "outputs": [
    {
     "name": "stdout",
     "output_type": "stream",
     "text": [
      "/nfs/home/maxa/results/synth/scholar_split/train_val\n"
     ]
    }
   ],
   "source": [
    "if sys.platform == \"darwin\":\n",
    "    pass\n",
    "else:\n",
    "    if dataset == \"synth\":\n",
    "         input_dir = \"/nfs/home/maxa/results/\"+dataset+'/scholar_split/train_val'       \n",
    "print(input_dir)\n",
    "#try:\n",
    "#    os.mkdir(output_dir)\n",
    "#except:\n",
    "#pass"
   ]
  },
  {
   "cell_type": "code",
   "execution_count": 126,
   "metadata": {},
   "outputs": [
    {
     "name": "stdout",
     "output_type": "stream",
     "text": [
      "132\n"
     ]
    }
   ],
   "source": [
    "print(len(os.listdir(input_dir)))"
   ]
  },
  {
   "cell_type": "code",
   "execution_count": 9,
   "metadata": {},
   "outputs": [
    {
     "data": {
      "text/plain": [
       "'/nfs/home/maxa/results/synth/scholar_split/train_val'"
      ]
     },
     "execution_count": 9,
     "metadata": {},
     "output_type": "execute_result"
    }
   ],
   "source": [
    "input_dir"
   ]
  },
  {
   "cell_type": "code",
   "execution_count": 13,
   "metadata": {},
   "outputs": [
    {
     "data": {
      "text/plain": [
       "('/nfs/home/maxa/results/synth/scholar_split/train_val',\n",
       " 'k3_ep500_nointercept_run_52')"
      ]
     },
     "execution_count": 13,
     "metadata": {},
     "output_type": "execute_result"
    }
   ],
   "source": [
    "runs_dir,run"
   ]
  },
  {
   "cell_type": "code",
   "execution_count": 117,
   "metadata": {},
   "outputs": [],
   "source": [
    "df_weights = pd.DataFrame(columns=[\"z1\",\"z2\",\"z3\",\"x1\"])\n",
    "pR = pd.DataFrame()\n",
    "mse = pd.DataFrame()\n",
    "pRs = []\n",
    "mses = []\n",
    "runs_dir = input_dir\n",
    "for run in os.listdir(runs_dir):\n",
    "    temp = pd.read_csv(os.path.join(runs_dir,run,'best_val_regression_weights.txt'), header = None)\n",
    "    weights = []\n",
    "    for val in temp[0]:\n",
    "        weights.append(float(re.sub('[^A-Za-z0-9\\.-]+', '', val)))  \n",
    "    temp2 = pd.Series(weights)\n",
    "    temp2.index = [\"z1\",\"z2\",\"z3\",\"x1\"]\n",
    "\n",
    "    df_weights = df_weights.append(temp2, ignore_index = True)\n",
    "    \n",
    "    pRs.append(pd.read_csv(os.path.join(runs_dir,run,'train_pR2.txt'),\n",
    "                           header = None).values[0][0])\n",
    "    mses.append(pd.read_csv(os.path.join(runs_dir,run,'train_mse.txt'),\n",
    "                           header = None).values[0][0])   \n",
    "pR = pd.DataFrame(pRs, columns = [\"pR\"])\n",
    "mse = pd.DataFrame(mses, columns = [\"mse\"])\n"
   ]
  },
  {
   "cell_type": "code",
   "execution_count": 140,
   "metadata": {},
   "outputs": [
    {
     "data": {
      "text/plain": [
       "z1   -0.434444\n",
       "z2   -0.320266\n",
       "z3   -0.386379\n",
       "x1   -1.407491\n",
       "Name: 0.025, dtype: float64"
      ]
     },
     "execution_count": 140,
     "metadata": {},
     "output_type": "execute_result"
    }
   ],
   "source": [
    "df_weights.quantile(0.025)"
   ]
  },
  {
   "cell_type": "code",
   "execution_count": 136,
   "metadata": {},
   "outputs": [
    {
     "data": {
      "text/plain": [
       "z1   -0.138766\n",
       "z2   -0.131062\n",
       "z3   -0.084612\n",
       "x1   -1.302254\n",
       "dtype: float64"
      ]
     },
     "execution_count": 136,
     "metadata": {},
     "output_type": "execute_result"
    }
   ],
   "source": [
    "df_weights.median()"
   ]
  },
  {
   "cell_type": "code",
   "execution_count": 137,
   "metadata": {},
   "outputs": [
    {
     "data": {
      "text/plain": [
       "z1    0.076731\n",
       "z2    0.074878\n",
       "z3    0.081271\n",
       "x1   -0.438014\n",
       "Name: 0.975, dtype: float64"
      ]
     },
     "execution_count": 137,
     "metadata": {},
     "output_type": "execute_result"
    }
   ],
   "source": [
    "df_weights.quantile(0.975)"
   ]
  },
  {
   "cell_type": "markdown",
   "metadata": {},
   "source": [
    "# "
   ]
  }
 ],
 "metadata": {
  "kernelspec": {
   "display_name": "Python 3",
   "language": "python",
   "name": "python3"
  },
  "language_info": {
   "codemirror_mode": {
    "name": "ipython",
    "version": 3
   },
   "file_extension": ".py",
   "mimetype": "text/x-python",
   "name": "python",
   "nbconvert_exporter": "python",
   "pygments_lexer": "ipython3",
   "version": "3.6.5"
  }
 },
 "nbformat": 4,
 "nbformat_minor": 5
}
